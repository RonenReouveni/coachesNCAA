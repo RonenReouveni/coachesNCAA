{
  "nbformat": 4,
  "nbformat_minor": 0,
  "metadata": {
    "colab": {
      "name": "Reouveni_Sec1_Lab3_2021.ipynb",
      "provenance": [],
      "collapsed_sections": []
    },
    "kernelspec": {
      "name": "python3",
      "display_name": "Python 3"
    },
    "language_info": {
      "name": "python"
    }
  },
  "cells": [
    {
      "cell_type": "markdown",
      "metadata": {
        "id": "_m-wk2vULQSU"
      },
      "source": [
        "# Combining Data sets\n",
        "\n",
        "This analysis shows how to combine multiple datasets and build a model to predict the salary of various football coaches. The report contains 5 sections; combining data sets, munging and feature engineering, visualizations, modeling, and analysis and recommendations. \n",
        "\n",
        "The process for combining each data set is as followed. Initially, I start with a coaches dataset. This has 129 observations containing school name, conference, coach and pay. I combine an additional 3 data sets to make a total of 4 datasets in this analysis. Combining these additional datasets introduces some issues that need to be addressed. The school names across each dataset are different. To merge them they need to have consistent names in order to join them using merging in pandas. \n",
        "\n",
        "In order to solve this issue I use a combination of regular expressions and simply replacing values. This process is a good start but it does not match all observations. To overcome this I use a package called fuzzywuzzy. This package can calculate similarity between words. I use it to match the remainder of the mismatched observations. For example, it is able to match observations like;\n",
        "\n",
        "miami (fla.) and miami (florida)\n",
        "\n",
        "\n",
        "Finally, the dataset is expanded to include 4 datasets. The coaches dataset, data on graduation rates, school athletic records and ranking, data on stadium capacity and year opened. "
      ]
    },
    {
      "cell_type": "code",
      "metadata": {
        "colab": {
          "base_uri": "https://localhost:8080/"
        },
        "id": "9ptJs1gzdv8V",
        "outputId": "f026573b-06aa-4db6-d205-20fba7827c5f"
      },
      "source": [
        "pip install fuzzywuzzy"
      ],
      "execution_count": null,
      "outputs": [
        {
          "output_type": "stream",
          "text": [
            "Requirement already satisfied: fuzzywuzzy in /usr/local/lib/python3.7/dist-packages (0.18.0)\n"
          ],
          "name": "stdout"
        }
      ]
    },
    {
      "cell_type": "code",
      "metadata": {
        "id": "KWreQtO16QjH"
      },
      "source": [
        "import warnings\n",
        "warnings.filterwarnings('ignore')\n",
        "\n",
        "\n",
        "import pandas as pd\n",
        "import re\n",
        "from fuzzywuzzy import fuzz\n",
        "import matplotlib.pyplot as plt\n",
        "import seaborn as sns\n",
        "import numpy as np\n",
        "import matplotlib.pyplot as plt\n",
        "import statsmodels.formula.api as sm\n",
        "from sklearn.metrics import mean_squared_error\n",
        "from math import sqrt\n",
        "from sklearn.model_selection import train_test_split\n",
        "\n",
        "pd.set_option('display.max_colwidth', None)"
      ],
      "execution_count": null,
      "outputs": []
    },
    {
      "cell_type": "code",
      "metadata": {
        "colab": {
          "base_uri": "https://localhost:8080/",
          "height": 221
        },
        "id": "H5Ril--w6ZvN",
        "outputId": "52e90a02-a3c6-49f7-989e-03a5a7385722"
      },
      "source": [
        "#load coaches data, view shape, col names, and some preprocessing\n",
        "coachDF = pd.read_csv('https://raw.githubusercontent.com/RonenReouveni/IST_718_lab1/main/Coaches9.csv')\n",
        "print(coachDF.shape)\n",
        "coachDF['School'] = coachDF['School'].str.lower()\n",
        "coachDF.head()"
      ],
      "execution_count": null,
      "outputs": [
        {
          "output_type": "stream",
          "text": [
            "(129, 9)\n"
          ],
          "name": "stdout"
        },
        {
          "output_type": "execute_result",
          "data": {
            "text/html": [
              "<div>\n",
              "<style scoped>\n",
              "    .dataframe tbody tr th:only-of-type {\n",
              "        vertical-align: middle;\n",
              "    }\n",
              "\n",
              "    .dataframe tbody tr th {\n",
              "        vertical-align: top;\n",
              "    }\n",
              "\n",
              "    .dataframe thead th {\n",
              "        text-align: right;\n",
              "    }\n",
              "</style>\n",
              "<table border=\"1\" class=\"dataframe\">\n",
              "  <thead>\n",
              "    <tr style=\"text-align: right;\">\n",
              "      <th></th>\n",
              "      <th>School</th>\n",
              "      <th>Conference</th>\n",
              "      <th>Coach</th>\n",
              "      <th>SchoolPay</th>\n",
              "      <th>TotalPay</th>\n",
              "      <th>Bonus</th>\n",
              "      <th>BonusPaid</th>\n",
              "      <th>AssistantPay</th>\n",
              "      <th>Buyout</th>\n",
              "    </tr>\n",
              "  </thead>\n",
              "  <tbody>\n",
              "    <tr>\n",
              "      <th>0</th>\n",
              "      <td>air force</td>\n",
              "      <td>Mt. West</td>\n",
              "      <td>Troy Calhoun</td>\n",
              "      <td>885000</td>\n",
              "      <td>885000</td>\n",
              "      <td>247000</td>\n",
              "      <td>--</td>\n",
              "      <td>$0</td>\n",
              "      <td>--</td>\n",
              "    </tr>\n",
              "    <tr>\n",
              "      <th>1</th>\n",
              "      <td>akron</td>\n",
              "      <td>MAC</td>\n",
              "      <td>Terry Bowden</td>\n",
              "      <td>$411,000</td>\n",
              "      <td>$412,500</td>\n",
              "      <td>$225,000</td>\n",
              "      <td>$50,000</td>\n",
              "      <td>$0</td>\n",
              "      <td>$688,500</td>\n",
              "    </tr>\n",
              "    <tr>\n",
              "      <th>2</th>\n",
              "      <td>alabama</td>\n",
              "      <td>SEC</td>\n",
              "      <td>Nick Saban</td>\n",
              "      <td>$8,307,000</td>\n",
              "      <td>$8,307,000</td>\n",
              "      <td>$1,100,000</td>\n",
              "      <td>$500,000</td>\n",
              "      <td>$0</td>\n",
              "      <td>$33,600,000</td>\n",
              "    </tr>\n",
              "    <tr>\n",
              "      <th>3</th>\n",
              "      <td>alabama at birmingham</td>\n",
              "      <td>C-USA</td>\n",
              "      <td>Bill Clark</td>\n",
              "      <td>$900,000</td>\n",
              "      <td>$900,000</td>\n",
              "      <td>$950,000</td>\n",
              "      <td>$165,471</td>\n",
              "      <td>$0</td>\n",
              "      <td>$3,847,500</td>\n",
              "    </tr>\n",
              "    <tr>\n",
              "      <th>4</th>\n",
              "      <td>appalachian state</td>\n",
              "      <td>Sun Belt</td>\n",
              "      <td>Scott Satterfield</td>\n",
              "      <td>$712,500</td>\n",
              "      <td>$712,500</td>\n",
              "      <td>$295,000</td>\n",
              "      <td>$145,000</td>\n",
              "      <td>$0</td>\n",
              "      <td>$2,160,417</td>\n",
              "    </tr>\n",
              "  </tbody>\n",
              "</table>\n",
              "</div>"
            ],
            "text/plain": [
              "                  School Conference  ... AssistantPay        Buyout\n",
              "0              air force   Mt. West  ...          $0             --\n",
              "1                  akron        MAC  ...          $0      $688,500 \n",
              "2                alabama        SEC  ...          $0   $33,600,000 \n",
              "3  alabama at birmingham      C-USA  ...          $0    $3,847,500 \n",
              "4      appalachian state   Sun Belt  ...          $0    $2,160,417 \n",
              "\n",
              "[5 rows x 9 columns]"
            ]
          },
          "metadata": {
            "tags": []
          },
          "execution_count": 231
        }
      ]
    },
    {
      "cell_type": "code",
      "metadata": {
        "colab": {
          "base_uri": "https://localhost:8080/",
          "height": 289
        },
        "id": "rldcFxoG-n6A",
        "outputId": "033caae3-8674-4166-ee1f-618ad4c09c4d"
      },
      "source": [
        "#Replace the mismatched names from the capacity dataset to match the coaches dataset\n",
        "#replace the values and then lowercase\n",
        "closedNames = ['SMU', 'UAB','BYU', 'UNC Charlotte', 'UMass','Miami','Miami-OH'\n",
        "              ,'UNLV','NC State','USC','Southern Miss','TCU','UTEP','UTSA']\n",
        "\n",
        "\n",
        "openNames = ['southern methodist','alabama at birmingham','brigham young', 'charlotte'\n",
        "            ,'massachusetts','miami (fla.)','miami (ohio)','nevada-las vegas','north carolina state'\n",
        "            ,'southern california','southern mississippi','texas christian','texas-el paso','texas-san antonio']\n",
        "\n",
        "\n",
        "#https://www.collegegridirons.com/comparisons/\n",
        "\n",
        "stadSize = pd.read_csv('https://raw.githubusercontent.com/RonenReouveni/IST_718_lab1/main/wpdt_export.csv')\n",
        "stadSize['College'] = stadSize['College'].replace(closedNames,openNames)\n",
        "stadSize['College'] = stadSize['College'].str.lower()\n",
        "\n",
        "\n",
        "merged_left = pd.merge(left=coachDF, right=stadSize, how='left', left_on='School', right_on='College')\n",
        "merged_left.head()"
      ],
      "execution_count": null,
      "outputs": [
        {
          "output_type": "execute_result",
          "data": {
            "text/html": [
              "<div>\n",
              "<style scoped>\n",
              "    .dataframe tbody tr th:only-of-type {\n",
              "        vertical-align: middle;\n",
              "    }\n",
              "\n",
              "    .dataframe tbody tr th {\n",
              "        vertical-align: top;\n",
              "    }\n",
              "\n",
              "    .dataframe thead th {\n",
              "        text-align: right;\n",
              "    }\n",
              "</style>\n",
              "<table border=\"1\" class=\"dataframe\">\n",
              "  <thead>\n",
              "    <tr style=\"text-align: right;\">\n",
              "      <th></th>\n",
              "      <th>School</th>\n",
              "      <th>Conference_x</th>\n",
              "      <th>Coach</th>\n",
              "      <th>SchoolPay</th>\n",
              "      <th>TotalPay</th>\n",
              "      <th>Bonus</th>\n",
              "      <th>BonusPaid</th>\n",
              "      <th>AssistantPay</th>\n",
              "      <th>Buyout</th>\n",
              "      <th>Stadium</th>\n",
              "      <th>College</th>\n",
              "      <th>Conference_y</th>\n",
              "      <th>Capacity</th>\n",
              "      <th>Opened</th>\n",
              "    </tr>\n",
              "  </thead>\n",
              "  <tbody>\n",
              "    <tr>\n",
              "      <th>0</th>\n",
              "      <td>air force</td>\n",
              "      <td>Mt. West</td>\n",
              "      <td>Troy Calhoun</td>\n",
              "      <td>885000</td>\n",
              "      <td>885000</td>\n",
              "      <td>247000</td>\n",
              "      <td>--</td>\n",
              "      <td>$0</td>\n",
              "      <td>--</td>\n",
              "      <td>Falcon Stadium</td>\n",
              "      <td>air force</td>\n",
              "      <td>Mountain West</td>\n",
              "      <td>46,692</td>\n",
              "      <td>1962</td>\n",
              "    </tr>\n",
              "    <tr>\n",
              "      <th>1</th>\n",
              "      <td>akron</td>\n",
              "      <td>MAC</td>\n",
              "      <td>Terry Bowden</td>\n",
              "      <td>$411,000</td>\n",
              "      <td>$412,500</td>\n",
              "      <td>$225,000</td>\n",
              "      <td>$50,000</td>\n",
              "      <td>$0</td>\n",
              "      <td>$688,500</td>\n",
              "      <td>InfoCision Stadium</td>\n",
              "      <td>akron</td>\n",
              "      <td>MAC</td>\n",
              "      <td>30,000</td>\n",
              "      <td>2009</td>\n",
              "    </tr>\n",
              "    <tr>\n",
              "      <th>2</th>\n",
              "      <td>alabama</td>\n",
              "      <td>SEC</td>\n",
              "      <td>Nick Saban</td>\n",
              "      <td>$8,307,000</td>\n",
              "      <td>$8,307,000</td>\n",
              "      <td>$1,100,000</td>\n",
              "      <td>$500,000</td>\n",
              "      <td>$0</td>\n",
              "      <td>$33,600,000</td>\n",
              "      <td>Bryant Denny Stadium</td>\n",
              "      <td>alabama</td>\n",
              "      <td>SEC</td>\n",
              "      <td>100,077</td>\n",
              "      <td>1929</td>\n",
              "    </tr>\n",
              "    <tr>\n",
              "      <th>3</th>\n",
              "      <td>alabama at birmingham</td>\n",
              "      <td>C-USA</td>\n",
              "      <td>Bill Clark</td>\n",
              "      <td>$900,000</td>\n",
              "      <td>$900,000</td>\n",
              "      <td>$950,000</td>\n",
              "      <td>$165,471</td>\n",
              "      <td>$0</td>\n",
              "      <td>$3,847,500</td>\n",
              "      <td>Legion Field</td>\n",
              "      <td>alabama at birmingham</td>\n",
              "      <td>CUSA</td>\n",
              "      <td>71,000</td>\n",
              "      <td>1927</td>\n",
              "    </tr>\n",
              "    <tr>\n",
              "      <th>4</th>\n",
              "      <td>appalachian state</td>\n",
              "      <td>Sun Belt</td>\n",
              "      <td>Scott Satterfield</td>\n",
              "      <td>$712,500</td>\n",
              "      <td>$712,500</td>\n",
              "      <td>$295,000</td>\n",
              "      <td>$145,000</td>\n",
              "      <td>$0</td>\n",
              "      <td>$2,160,417</td>\n",
              "      <td>Kidd Brewer Stadium</td>\n",
              "      <td>appalachian state</td>\n",
              "      <td>Sun Belt</td>\n",
              "      <td>30,000</td>\n",
              "      <td>1962</td>\n",
              "    </tr>\n",
              "  </tbody>\n",
              "</table>\n",
              "</div>"
            ],
            "text/plain": [
              "                  School Conference_x  ... Capacity Opened\n",
              "0              air force     Mt. West  ...   46,692   1962\n",
              "1                  akron          MAC  ...   30,000   2009\n",
              "2                alabama          SEC  ...  100,077   1929\n",
              "3  alabama at birmingham        C-USA  ...   71,000   1927\n",
              "4      appalachian state     Sun Belt  ...   30,000   1962\n",
              "\n",
              "[5 rows x 14 columns]"
            ]
          },
          "metadata": {
            "tags": []
          },
          "execution_count": 232
        }
      ]
    },
    {
      "cell_type": "code",
      "metadata": {
        "id": "qcJKBSnDmZY7"
      },
      "source": [
        "#https://web3.ncaa.org/aprsearch/gsrsearch\n",
        "#load in graduation data and rename the columns \n",
        "gradRate = pd.read_csv('https://raw.githubusercontent.com/RonenReouveni/IST_718_lab1/main/grads.csv', header=None)\n",
        "names = ['cohort','School_name','Conf','Sport','St','GSR','FGR','None','None1']\n",
        "gradRate = gradRate.set_axis(names, axis=1)\n",
        "\n",
        "\n",
        "#munge names so they match in both datasets\n",
        "merged_left['School'] = merged_left['School'].str.strip() #get rid of white space\n",
        "\n",
        "#expand names \n",
        "gradRate['School_name'] = gradRate['School_name'].str.replace('U.S. Air Force Academy','air force')\n",
        "gradRate['School_name'] = gradRate['School_name'].str.replace('Georgia Institute of Technology','georgia tech')\n",
        "gradRate['School_name'] = gradRate['School_name'].str.replace('U.S. Naval Academy','navy')\n",
        "gradRate['School_name'] = gradRate['School_name'].str.replace('The University of Southern Mississippi','southern mississippi')\n",
        "gradRate['School_name'] = gradRate['School_name'].str.replace('Pennsylvania State University','penn state')\n",
        "gradRate['School_name'] = gradRate['School_name'].str.replace('The Ohio State University','ohio state')\n",
        "gradRate['School_name'] = gradRate['School_name'].str.replace('University of Nevada, Reno','Reno')\t\n",
        "gradRate['School_name'] = gradRate['School_name'].str.replace('California State University, Fresno','Fresno state') \n",
        "gradRate['School_name'] = gradRate['School_name'].str.replace('University at Buffalo, the State University of New York','Buffalo') \n",
        "gradRate['School_name'] = gradRate['School_name'].str.replace('Virginia Polytechnic Institute and State University','Virginia tech') \n",
        "gradRate['School_name'] = gradRate['School_name'].str.replace('University of California, Los Angeles','ucla') \n",
        "gradRate['School_name'] = gradRate['School_name'].str.replace('The University of Tulsa','tulsa') \n",
        "gradRate['School_name'] = gradRate['School_name'].str.replace('Middle Tennessee State University','Middle Tennessee') \n",
        "gradRate['School_name'] = gradRate['School_name'].str.replace('Bowling Green State University','Bowling Green') \n",
        "gradRate['School_name'] = gradRate['School_name'].str.replace('University of Illinois Urbana-Champaign','Illinois') \n",
        "gradRate['School_name'] = gradRate['School_name'].str.replace('University of Louisiana at Lafayette','louisiana-lafayette')\n",
        "gradRate['School_name'] = gradRate['School_name'].str.replace('University of Texas at El Paso','texas-el paso') \n",
        "gradRate['School_name'] = gradRate['School_name'].str.replace('University of Nevada, Las Vegas','nevada-las vegas') \n",
        "\n",
        "\n",
        "\n",
        "#lowercase everything\n",
        "gradRate['School_name'] = gradRate['School_name'].str.lower()\n",
        "\n",
        "#general changes to match more values\n",
        "gradRate['School_name'] = gradRate['School_name'].str.replace('university','')\n",
        "gradRate['School_name'] = gradRate['School_name'].str.replace('of','')\n",
        "gradRate['School_name'] = gradRate['School_name'].str.replace('louisiana state','lsu')\n",
        "\n",
        "\n",
        "#REGEX all strings after ',' must be removed\n",
        "regex_pat = re.compile(r'\\,.*$', flags=re.IGNORECASE)\n",
        "gradRate['School_name'] = gradRate['School_name'].str.replace(regex_pat, '')\n",
        "\n",
        "#strip whitespace \n",
        "gradRate['School_name'] = gradRate['School_name'].str.strip()"
      ],
      "execution_count": null,
      "outputs": []
    },
    {
      "cell_type": "code",
      "metadata": {
        "colab": {
          "base_uri": "https://localhost:8080/"
        },
        "id": "-fspmQsDeI8v",
        "outputId": "f48641c5-6344-4c53-f453-c66da8f69d66"
      },
      "source": [
        "#put keys of each data set into a list \n",
        "#now we can find the rest of the mismatched keys\n",
        "list1 = list(merged_left['School'])\n",
        "list2 = list(gradRate['School_name'])\n",
        "c = [ element for element in list1 if element not in list2] \n",
        "d = [ element for element in list2 if element not in list1]\n",
        "\n",
        "\n",
        "#let fuzzy wuzzy match more names\n",
        "#if it finds a match it coerces it to match names\n",
        "#see the print for how it can match things like:\n",
        "#miami (fla.) with miami (florida)\n",
        "for string in c:\n",
        "  for otherString in d:\n",
        "    Ratio = fuzz.ratio(string,otherString)\n",
        "    if Ratio>80:\n",
        "      gradRate.School_name[gradRate.School_name == otherString] = string\n",
        "      print(string, otherString)"
      ],
      "execution_count": null,
      "outputs": [
        {
          "output_type": "stream",
          "text": [
            "louisiana-monroe louisiana monroe\n",
            "miami (fla.) miami (florida)\n",
            "miami (ohio) miami  (ohio)\n"
          ],
          "name": "stdout"
        }
      ]
    },
    {
      "cell_type": "code",
      "metadata": {
        "colab": {
          "base_uri": "https://localhost:8080/",
          "height": 394
        },
        "id": "F1mOol1jnWjG",
        "outputId": "72faa529-7123-45f5-94c3-6d5204c35f48"
      },
      "source": [
        "#match some stragglers\n",
        "gradRate.School_name[gradRate.School_name == 'wisconsin-madison'] = 'wisconsin'\n",
        "gradRate.School_name[gradRate.School_name == 'texas southern'] = 'texas'\n",
        "\n",
        "\n",
        "#merge them and match on name again\n",
        "#we should end up with 23 columns\n",
        "merged_left_ = pd.merge(left=merged_left, right=gradRate, how='left', left_on='College', right_on='School_name')\n",
        "\n",
        "\n",
        "merged_left_.drop(['None','None1'], axis=1, inplace=True)\n",
        "print(merged_left_[merged_left_.isna().any(axis=1)].shape)\n",
        "\n",
        "\n",
        "merged_left_.head()"
      ],
      "execution_count": null,
      "outputs": [
        {
          "output_type": "stream",
          "text": [
            "(9, 21)\n"
          ],
          "name": "stdout"
        },
        {
          "output_type": "execute_result",
          "data": {
            "text/html": [
              "<div>\n",
              "<style scoped>\n",
              "    .dataframe tbody tr th:only-of-type {\n",
              "        vertical-align: middle;\n",
              "    }\n",
              "\n",
              "    .dataframe tbody tr th {\n",
              "        vertical-align: top;\n",
              "    }\n",
              "\n",
              "    .dataframe thead th {\n",
              "        text-align: right;\n",
              "    }\n",
              "</style>\n",
              "<table border=\"1\" class=\"dataframe\">\n",
              "  <thead>\n",
              "    <tr style=\"text-align: right;\">\n",
              "      <th></th>\n",
              "      <th>School</th>\n",
              "      <th>Conference_x</th>\n",
              "      <th>Coach</th>\n",
              "      <th>SchoolPay</th>\n",
              "      <th>TotalPay</th>\n",
              "      <th>Bonus</th>\n",
              "      <th>BonusPaid</th>\n",
              "      <th>AssistantPay</th>\n",
              "      <th>Buyout</th>\n",
              "      <th>Stadium</th>\n",
              "      <th>College</th>\n",
              "      <th>Conference_y</th>\n",
              "      <th>Capacity</th>\n",
              "      <th>Opened</th>\n",
              "      <th>cohort</th>\n",
              "      <th>School_name</th>\n",
              "      <th>Conf</th>\n",
              "      <th>Sport</th>\n",
              "      <th>St</th>\n",
              "      <th>GSR</th>\n",
              "      <th>FGR</th>\n",
              "    </tr>\n",
              "  </thead>\n",
              "  <tbody>\n",
              "    <tr>\n",
              "      <th>0</th>\n",
              "      <td>air force</td>\n",
              "      <td>Mt. West</td>\n",
              "      <td>Troy Calhoun</td>\n",
              "      <td>885000</td>\n",
              "      <td>885000</td>\n",
              "      <td>247000</td>\n",
              "      <td>--</td>\n",
              "      <td>$0</td>\n",
              "      <td>--</td>\n",
              "      <td>Falcon Stadium</td>\n",
              "      <td>air force</td>\n",
              "      <td>Mountain West</td>\n",
              "      <td>46,692</td>\n",
              "      <td>1962</td>\n",
              "      <td>2006.00</td>\n",
              "      <td>air force</td>\n",
              "      <td>Mountain West Conference</td>\n",
              "      <td>Football</td>\n",
              "      <td>CO</td>\n",
              "      <td>93.00</td>\n",
              "      <td>nan</td>\n",
              "    </tr>\n",
              "    <tr>\n",
              "      <th>1</th>\n",
              "      <td>akron</td>\n",
              "      <td>MAC</td>\n",
              "      <td>Terry Bowden</td>\n",
              "      <td>$411,000</td>\n",
              "      <td>$412,500</td>\n",
              "      <td>$225,000</td>\n",
              "      <td>$50,000</td>\n",
              "      <td>$0</td>\n",
              "      <td>$688,500</td>\n",
              "      <td>InfoCision Stadium</td>\n",
              "      <td>akron</td>\n",
              "      <td>MAC</td>\n",
              "      <td>30,000</td>\n",
              "      <td>2009</td>\n",
              "      <td>2006.00</td>\n",
              "      <td>akron</td>\n",
              "      <td>Mid-American Conference</td>\n",
              "      <td>Football</td>\n",
              "      <td>OH</td>\n",
              "      <td>58.00</td>\n",
              "      <td>52.00</td>\n",
              "    </tr>\n",
              "    <tr>\n",
              "      <th>2</th>\n",
              "      <td>alabama</td>\n",
              "      <td>SEC</td>\n",
              "      <td>Nick Saban</td>\n",
              "      <td>$8,307,000</td>\n",
              "      <td>$8,307,000</td>\n",
              "      <td>$1,100,000</td>\n",
              "      <td>$500,000</td>\n",
              "      <td>$0</td>\n",
              "      <td>$33,600,000</td>\n",
              "      <td>Bryant Denny Stadium</td>\n",
              "      <td>alabama</td>\n",
              "      <td>SEC</td>\n",
              "      <td>100,077</td>\n",
              "      <td>1929</td>\n",
              "      <td>2006.00</td>\n",
              "      <td>alabama</td>\n",
              "      <td>Southeastern Conference</td>\n",
              "      <td>Football</td>\n",
              "      <td>AL</td>\n",
              "      <td>73.00</td>\n",
              "      <td>57.00</td>\n",
              "    </tr>\n",
              "    <tr>\n",
              "      <th>3</th>\n",
              "      <td>alabama at birmingham</td>\n",
              "      <td>C-USA</td>\n",
              "      <td>Bill Clark</td>\n",
              "      <td>$900,000</td>\n",
              "      <td>$900,000</td>\n",
              "      <td>$950,000</td>\n",
              "      <td>$165,471</td>\n",
              "      <td>$0</td>\n",
              "      <td>$3,847,500</td>\n",
              "      <td>Legion Field</td>\n",
              "      <td>alabama at birmingham</td>\n",
              "      <td>CUSA</td>\n",
              "      <td>71,000</td>\n",
              "      <td>1927</td>\n",
              "      <td>2006.00</td>\n",
              "      <td>alabama at birmingham</td>\n",
              "      <td>Conference USA</td>\n",
              "      <td>Football</td>\n",
              "      <td>AL</td>\n",
              "      <td>60.00</td>\n",
              "      <td>55.00</td>\n",
              "    </tr>\n",
              "    <tr>\n",
              "      <th>4</th>\n",
              "      <td>appalachian state</td>\n",
              "      <td>Sun Belt</td>\n",
              "      <td>Scott Satterfield</td>\n",
              "      <td>$712,500</td>\n",
              "      <td>$712,500</td>\n",
              "      <td>$295,000</td>\n",
              "      <td>$145,000</td>\n",
              "      <td>$0</td>\n",
              "      <td>$2,160,417</td>\n",
              "      <td>Kidd Brewer Stadium</td>\n",
              "      <td>appalachian state</td>\n",
              "      <td>Sun Belt</td>\n",
              "      <td>30,000</td>\n",
              "      <td>1962</td>\n",
              "      <td>2006.00</td>\n",
              "      <td>appalachian state</td>\n",
              "      <td>Southern Conference</td>\n",
              "      <td>Football</td>\n",
              "      <td>NC</td>\n",
              "      <td>68.00</td>\n",
              "      <td>56.00</td>\n",
              "    </tr>\n",
              "  </tbody>\n",
              "</table>\n",
              "</div>"
            ],
            "text/plain": [
              "                  School Conference_x              Coach  ...  St   GSR   FGR\n",
              "0              air force     Mt. West       Troy Calhoun  ...  CO 93.00   nan\n",
              "1                  akron          MAC       Terry Bowden  ...  OH 58.00 52.00\n",
              "2                alabama          SEC         Nick Saban  ...  AL 73.00 57.00\n",
              "3  alabama at birmingham        C-USA         Bill Clark  ...  AL 60.00 55.00\n",
              "4      appalachian state     Sun Belt  Scott Satterfield  ...  NC 68.00 56.00\n",
              "\n",
              "[5 rows x 21 columns]"
            ]
          },
          "metadata": {
            "tags": []
          },
          "execution_count": 235
        }
      ]
    },
    {
      "cell_type": "code",
      "metadata": {
        "colab": {
          "base_uri": "https://localhost:8080/",
          "height": 204
        },
        "id": "5o6di7HoWyhW",
        "outputId": "7ffdd2d3-9671-4f68-fe2e-e07718e53148"
      },
      "source": [
        "#load in win, loss, rank, football stats dataset\n",
        "records = pd.read_csv('https://raw.githubusercontent.com/RonenReouveni/IST_718_lab1/main/schoolRecords.csv', sep='\\t')\n",
        "\n",
        "#match what records we can by expanding st to state etc. \n",
        "records['Name'] = records['Name'].str.strip()\n",
        "records['Name'] = records['Name'].str.lower()\n",
        "\n",
        "#important to note here:\n",
        "#this can cause some weirdness but fuzzymatch overcomes all\n",
        "records['Name'] = records['Name'].str.replace(\"st.\",'state')\n",
        "records['Name'] = records['Name'].str.replace('ala.','alabama')\n",
        "\n",
        "\n",
        "records['Name'] = records['Name'].str.strip()\n",
        "\n",
        "records.head()\n"
      ],
      "execution_count": null,
      "outputs": [
        {
          "output_type": "execute_result",
          "data": {
            "text/html": [
              "<div>\n",
              "<style scoped>\n",
              "    .dataframe tbody tr th:only-of-type {\n",
              "        vertical-align: middle;\n",
              "    }\n",
              "\n",
              "    .dataframe tbody tr th {\n",
              "        vertical-align: top;\n",
              "    }\n",
              "\n",
              "    .dataframe thead th {\n",
              "        text-align: right;\n",
              "    }\n",
              "</style>\n",
              "<table border=\"1\" class=\"dataframe\">\n",
              "  <thead>\n",
              "    <tr style=\"text-align: right;\">\n",
              "      <th></th>\n",
              "      <th>Rank</th>\n",
              "      <th>Name</th>\n",
              "      <th>Games</th>\n",
              "      <th>Plays</th>\n",
              "      <th>Yds</th>\n",
              "      <th>Avg</th>\n",
              "      <th>TDs</th>\n",
              "      <th>Ydspgm</th>\n",
              "      <th>Wins</th>\n",
              "      <th>Losses</th>\n",
              "      <th>Ties</th>\n",
              "    </tr>\n",
              "  </thead>\n",
              "  <tbody>\n",
              "    <tr>\n",
              "      <th>0</th>\n",
              "      <td>1</td>\n",
              "      <td>louisiana tech</td>\n",
              "      <td>12</td>\n",
              "      <td>1054</td>\n",
              "      <td>6935</td>\n",
              "      <td>6.58</td>\n",
              "      <td>84</td>\n",
              "      <td>577.92</td>\n",
              "      <td>9</td>\n",
              "      <td>3</td>\n",
              "      <td>0</td>\n",
              "    </tr>\n",
              "    <tr>\n",
              "      <th>1</th>\n",
              "      <td>2</td>\n",
              "      <td>baylor</td>\n",
              "      <td>13</td>\n",
              "      <td>1072</td>\n",
              "      <td>7439</td>\n",
              "      <td>6.94</td>\n",
              "      <td>76</td>\n",
              "      <td>572.23</td>\n",
              "      <td>8</td>\n",
              "      <td>5</td>\n",
              "      <td>0</td>\n",
              "    </tr>\n",
              "    <tr>\n",
              "      <th>2</th>\n",
              "      <td>3</td>\n",
              "      <td>texas a&amp;m</td>\n",
              "      <td>13</td>\n",
              "      <td>1025</td>\n",
              "      <td>7261</td>\n",
              "      <td>7.08</td>\n",
              "      <td>78</td>\n",
              "      <td>558.54</td>\n",
              "      <td>11</td>\n",
              "      <td>2</td>\n",
              "      <td>0</td>\n",
              "    </tr>\n",
              "    <tr>\n",
              "      <th>3</th>\n",
              "      <td>4</td>\n",
              "      <td>oklahoma state</td>\n",
              "      <td>13</td>\n",
              "      <td>1014</td>\n",
              "      <td>7111</td>\n",
              "      <td>7.01</td>\n",
              "      <td>73</td>\n",
              "      <td>547.00</td>\n",
              "      <td>8</td>\n",
              "      <td>5</td>\n",
              "      <td>0</td>\n",
              "    </tr>\n",
              "    <tr>\n",
              "      <th>4</th>\n",
              "      <td>5</td>\n",
              "      <td>oregon</td>\n",
              "      <td>13</td>\n",
              "      <td>1058</td>\n",
              "      <td>6986</td>\n",
              "      <td>6.60</td>\n",
              "      <td>89</td>\n",
              "      <td>537.38</td>\n",
              "      <td>12</td>\n",
              "      <td>1</td>\n",
              "      <td>0</td>\n",
              "    </tr>\n",
              "  </tbody>\n",
              "</table>\n",
              "</div>"
            ],
            "text/plain": [
              "   Rank            Name  Games  Plays   Yds  ...  TDs  Ydspgm  Wins  Losses  Ties\n",
              "0     1  louisiana tech     12   1054  6935  ...   84  577.92     9       3     0\n",
              "1     2          baylor     13   1072  7439  ...   76  572.23     8       5     0\n",
              "2     3       texas a&m     13   1025  7261  ...   78  558.54    11       2     0\n",
              "3     4  oklahoma state     13   1014  7111  ...   73  547.00     8       5     0\n",
              "4     5          oregon     13   1058  6986  ...   89  537.38    12       1     0\n",
              "\n",
              "[5 rows x 11 columns]"
            ]
          },
          "metadata": {
            "tags": []
          },
          "execution_count": 236
        }
      ]
    },
    {
      "cell_type": "code",
      "metadata": {
        "colab": {
          "base_uri": "https://localhost:8080/"
        },
        "id": "BE1rcEc6k0FJ",
        "outputId": "0fa05ab1-9800-4143-b564-8656812b0030"
      },
      "source": [
        "#find mismatched names\n",
        "list1 = list(merged_left_['School'])\n",
        "list2 = list(records['Name'])\n",
        "c = [ element for element in list1 if element not in list2] \n",
        "d = [ element for element in list2 if element not in list1]\n",
        "\n",
        "#match using fuzzy wuzzy\n",
        "for string in c:\n",
        "  for otherString in d:\n",
        "    Ratio = fuzz.ratio(string,otherString)\n",
        "    if Ratio>85:\n",
        "      records.Name[records.Name == otherString] = string\n",
        "      print(string, otherString)"
      ],
      "execution_count": null,
      "outputs": [
        {
          "output_type": "stream",
          "text": [
            "boston college bostaten college\n",
            "east carolina eastatecarolina\n",
            "miami (fla.) miami (fl)\n",
            "miami (ohio) miami (oh)\n",
            "northwestern northwestatern\n",
            "stanford statenford\n",
            "west virginia westatevirginia\n"
          ],
          "name": "stdout"
        }
      ]
    },
    {
      "cell_type": "code",
      "metadata": {
        "colab": {
          "base_uri": "https://localhost:8080/"
        },
        "id": "nXAGVpCA70gA",
        "outputId": "9e159681-cae0-4128-e17d-f434598ef919"
      },
      "source": [
        "#recalculate and rematch again\n",
        "list1 = list(merged_left_['School'])\n",
        "list2 = list(records['Name'])\n",
        "c = [ element for element in list1 if element not in list2] \n",
        "d = [ element for element in list2 if element not in list1]\n",
        "\n",
        "for string in c:\n",
        "  for otherString in d:\n",
        "    Ratio = fuzz.ratio(string,otherString)\n",
        "    if Ratio>75:\n",
        "      records.Name[records.Name == otherString] = string\n",
        "      print(string, otherString)"
      ],
      "execution_count": null,
      "outputs": [
        {
          "output_type": "stream",
          "text": [
            "alabama alabamaama\n",
            "central michigan central mich.\n",
            "eastern michigan eastatern mich.\n",
            "florida atlantic fla. atlantic\n",
            "middle tennessee middle tenn.\n",
            "northern illinois northern ill.\n",
            "south florida south fla.\n",
            "southern mississippi southern miss.\n",
            "western michigan westatern mich.\n"
          ],
          "name": "stdout"
        }
      ]
    },
    {
      "cell_type": "code",
      "metadata": {
        "colab": {
          "base_uri": "https://localhost:8080/"
        },
        "id": "97tEXogZ8S0j",
        "outputId": "5fb870cd-3e73-4ec1-e7f8-2859d52086ca"
      },
      "source": [
        "#finally do this a 3rd time\n",
        "list1 = list(merged_left_['School'])\n",
        "list2 = list(records['Name'])\n",
        "c = [ element for element in list1 if element not in list2] \n",
        "d = [ element for element in list2 if element not in list1]\n",
        "\n",
        "for string in c:\n",
        "  for otherString in d:\n",
        "    Ratio = fuzz.ratio(string,otherString)\n",
        "    if Ratio>65:\n",
        "      records.Name[records.Name == otherString] = string\n",
        "      print(string, otherString)"
      ],
      "execution_count": null,
      "outputs": [
        {
          "output_type": "stream",
          "text": [
            "houston houstaten\n",
            "louisiana-lafayette la.-lafayette\n",
            "louisiana-monroe la.-monroe\n",
            "western kentucky westatern ky.\n"
          ],
          "name": "stdout"
        }
      ]
    },
    {
      "cell_type": "code",
      "metadata": {
        "colab": {
          "base_uri": "https://localhost:8080/",
          "height": 204
        },
        "id": "sfmIm04rYwb0",
        "outputId": "c7848869-d5f2-49fa-a212-28695905a0a2"
      },
      "source": [
        "closedNames = ['byu' ,'uab','unlv','mississippi state',\n",
        "               'smu','utsa','utep','tcu','ucf','fiu','georgia state']\n",
        "\n",
        "\n",
        "\n",
        "openNames = ['brigham young','alabama at birmingham','nevada-las vegas'\n",
        "             ,'mississippi','southern methodist','texas-san antonio'\n",
        "             ,'texas-el paso','texas christian','central florida'\n",
        "             ,'florida international','georgia']\n",
        "\n",
        "\n",
        "records['Name'] = records['Name'].replace(closedNames, openNames)\n",
        "\n",
        "\n",
        "finalMerge = pd.merge(left=merged_left_, right=records, how='left', left_on='School', right_on='Name')\n",
        "finalMerge = finalMerge.drop(['Bonus','BonusPaid','Buyout','TotalPay','Plays','cohort','School_name','College'\n",
        "                                ,'Conference_y','Sport','Name','Avg','Conf','AssistantPay'\n",
        "                                ,'Ties','Stadium'], axis = 1)\n",
        "finalMerge.head()"
      ],
      "execution_count": null,
      "outputs": [
        {
          "output_type": "execute_result",
          "data": {
            "text/html": [
              "<div>\n",
              "<style scoped>\n",
              "    .dataframe tbody tr th:only-of-type {\n",
              "        vertical-align: middle;\n",
              "    }\n",
              "\n",
              "    .dataframe tbody tr th {\n",
              "        vertical-align: top;\n",
              "    }\n",
              "\n",
              "    .dataframe thead th {\n",
              "        text-align: right;\n",
              "    }\n",
              "</style>\n",
              "<table border=\"1\" class=\"dataframe\">\n",
              "  <thead>\n",
              "    <tr style=\"text-align: right;\">\n",
              "      <th></th>\n",
              "      <th>School</th>\n",
              "      <th>Conference_x</th>\n",
              "      <th>Coach</th>\n",
              "      <th>SchoolPay</th>\n",
              "      <th>Capacity</th>\n",
              "      <th>Opened</th>\n",
              "      <th>St</th>\n",
              "      <th>GSR</th>\n",
              "      <th>FGR</th>\n",
              "      <th>Rank</th>\n",
              "      <th>Games</th>\n",
              "      <th>Yds</th>\n",
              "      <th>TDs</th>\n",
              "      <th>Ydspgm</th>\n",
              "      <th>Wins</th>\n",
              "      <th>Losses</th>\n",
              "    </tr>\n",
              "  </thead>\n",
              "  <tbody>\n",
              "    <tr>\n",
              "      <th>0</th>\n",
              "      <td>air force</td>\n",
              "      <td>Mt. West</td>\n",
              "      <td>Troy Calhoun</td>\n",
              "      <td>885000</td>\n",
              "      <td>46,692</td>\n",
              "      <td>1962</td>\n",
              "      <td>CO</td>\n",
              "      <td>93.00</td>\n",
              "      <td>nan</td>\n",
              "      <td>51.00</td>\n",
              "      <td>13.00</td>\n",
              "      <td>5445.00</td>\n",
              "      <td>49.00</td>\n",
              "      <td>418.85</td>\n",
              "      <td>6.00</td>\n",
              "      <td>7.00</td>\n",
              "    </tr>\n",
              "    <tr>\n",
              "      <th>1</th>\n",
              "      <td>akron</td>\n",
              "      <td>MAC</td>\n",
              "      <td>Terry Bowden</td>\n",
              "      <td>$411,000</td>\n",
              "      <td>30,000</td>\n",
              "      <td>2009</td>\n",
              "      <td>OH</td>\n",
              "      <td>58.00</td>\n",
              "      <td>52.00</td>\n",
              "      <td>45.00</td>\n",
              "      <td>12.00</td>\n",
              "      <td>5126.00</td>\n",
              "      <td>41.00</td>\n",
              "      <td>427.17</td>\n",
              "      <td>1.00</td>\n",
              "      <td>11.00</td>\n",
              "    </tr>\n",
              "    <tr>\n",
              "      <th>2</th>\n",
              "      <td>alabama</td>\n",
              "      <td>SEC</td>\n",
              "      <td>Nick Saban</td>\n",
              "      <td>$8,307,000</td>\n",
              "      <td>100,077</td>\n",
              "      <td>1929</td>\n",
              "      <td>AL</td>\n",
              "      <td>73.00</td>\n",
              "      <td>57.00</td>\n",
              "      <td>31.00</td>\n",
              "      <td>14.00</td>\n",
              "      <td>6237.00</td>\n",
              "      <td>71.00</td>\n",
              "      <td>445.50</td>\n",
              "      <td>13.00</td>\n",
              "      <td>1.00</td>\n",
              "    </tr>\n",
              "    <tr>\n",
              "      <th>3</th>\n",
              "      <td>alabama at birmingham</td>\n",
              "      <td>C-USA</td>\n",
              "      <td>Bill Clark</td>\n",
              "      <td>$900,000</td>\n",
              "      <td>71,000</td>\n",
              "      <td>1927</td>\n",
              "      <td>AL</td>\n",
              "      <td>60.00</td>\n",
              "      <td>55.00</td>\n",
              "      <td>50.00</td>\n",
              "      <td>12.00</td>\n",
              "      <td>5029.00</td>\n",
              "      <td>43.00</td>\n",
              "      <td>419.08</td>\n",
              "      <td>3.00</td>\n",
              "      <td>9.00</td>\n",
              "    </tr>\n",
              "    <tr>\n",
              "      <th>4</th>\n",
              "      <td>appalachian state</td>\n",
              "      <td>Sun Belt</td>\n",
              "      <td>Scott Satterfield</td>\n",
              "      <td>$712,500</td>\n",
              "      <td>30,000</td>\n",
              "      <td>1962</td>\n",
              "      <td>NC</td>\n",
              "      <td>68.00</td>\n",
              "      <td>56.00</td>\n",
              "      <td>nan</td>\n",
              "      <td>nan</td>\n",
              "      <td>nan</td>\n",
              "      <td>nan</td>\n",
              "      <td>nan</td>\n",
              "      <td>nan</td>\n",
              "      <td>nan</td>\n",
              "    </tr>\n",
              "  </tbody>\n",
              "</table>\n",
              "</div>"
            ],
            "text/plain": [
              "                  School Conference_x              Coach  ... Ydspgm  Wins  Losses\n",
              "0              air force     Mt. West       Troy Calhoun  ... 418.85  6.00    7.00\n",
              "1                  akron          MAC       Terry Bowden  ... 427.17  1.00   11.00\n",
              "2                alabama          SEC         Nick Saban  ... 445.50 13.00    1.00\n",
              "3  alabama at birmingham        C-USA         Bill Clark  ... 419.08  3.00    9.00\n",
              "4      appalachian state     Sun Belt  Scott Satterfield  ...    nan   nan     nan\n",
              "\n",
              "[5 rows x 16 columns]"
            ]
          },
          "metadata": {
            "tags": []
          },
          "execution_count": 240
        }
      ]
    },
    {
      "cell_type": "markdown",
      "metadata": {
        "id": "cGrgbviOLtF9"
      },
      "source": [
        "# Munging and Feature Engineering"
      ]
    },
    {
      "cell_type": "markdown",
      "metadata": {
        "id": "d2cQky8c7juh"
      },
      "source": [
        "Feature engineering is shown to be one of the most vital portions of this analysis. After fixing data types, I create four new predictors. Discretized year opened, power status, log school pay, and log capacity. Year opened is the year the stadium at the school was created. Below, I turn year opened into a categorical variable with five buckets spanning roughly 20 years each. \n",
        "\n",
        "In college football there are many conferences. However, 5 of these conferences are considered elite. These are the ACC, Big Ten, Big 12, SEC, and Pac-12. A new categorical predictor is made indicating if a school is part of one of these conferences. To be in one of these schools is to be a member of the Power 5. Much of the analysis will show how important Power 5 status is.\n",
        "\n",
        "Baylor, BYU, Rice, and SMU all have coaches salary missing and are therefore dropped. However, the missing data for Wins and GSR will be replaced with the group mean of the conference that the school falls into. "
      ]
    },
    {
      "cell_type": "code",
      "metadata": {
        "id": "DvhpvhZy3qGe"
      },
      "source": [
        "#munge\n",
        "finalMerge['SchoolPay'] = finalMerge['SchoolPay'].str.replace('$', '')\n",
        "finalMerge['SchoolPay'] = finalMerge['SchoolPay'].str.replace(',', '')\n",
        "finalMerge['SchoolPay'] = finalMerge['SchoolPay'].replace('--', np.nan)\n",
        "\n",
        "finalMerge['SchoolPay'] = finalMerge['SchoolPay'].astype('float') \n",
        "\n",
        "finalMerge['Capacity'] = finalMerge['Capacity'].str.replace(',', '')\n",
        "finalMerge['Capacity'] = finalMerge['Capacity'].astype('float') "
      ],
      "execution_count": null,
      "outputs": []
    },
    {
      "cell_type": "code",
      "metadata": {
        "colab": {
          "base_uri": "https://localhost:8080/"
        },
        "id": "x8wu9e4p59_i",
        "outputId": "95e92a99-99d2-4852-96a0-121993b04918"
      },
      "source": [
        "#must drop these 4 rows\n",
        "print(finalMerge[finalMerge['SchoolPay'].isnull()]['School'])\n",
        "finalMerge = finalMerge.dropna(subset=['SchoolPay'])\n",
        "finalMerge['SchoolPay'].isna().sum()"
      ],
      "execution_count": null,
      "outputs": [
        {
          "output_type": "stream",
          "text": [
            "13                 baylor\n",
            "17          brigham young\n",
            "93                   rice\n",
            "101    southern methodist\n",
            "Name: School, dtype: object\n"
          ],
          "name": "stdout"
        },
        {
          "output_type": "execute_result",
          "data": {
            "text/plain": [
              "0"
            ]
          },
          "metadata": {
            "tags": []
          },
          "execution_count": 242
        }
      ]
    },
    {
      "cell_type": "code",
      "metadata": {
        "colab": {
          "base_uri": "https://localhost:8080/"
        },
        "id": "zumrjETcLm9c",
        "outputId": "31680258-1a8b-4cc8-9649-3ba033bffca2"
      },
      "source": [
        "#replace NA with conditional means\n",
        "print(finalMerge[finalMerge['Wins'].isnull()]['School'])\n",
        "finalMerge['Wins'] = finalMerge['Wins'].fillna(finalMerge.groupby('Conference_x')['Wins'].transform('mean'))\n",
        "print(finalMerge['Wins'].isna().sum())\n",
        "\n",
        "#replace NA with conditional means\n",
        "print(finalMerge[finalMerge['GSR'].isnull()]['School'])\n",
        "finalMerge['GSR'] = finalMerge['GSR'].fillna(finalMerge.groupby('Conference_x')['GSR'].transform('mean'))\n",
        "finalMerge['GSR'].isna().sum()"
      ],
      "execution_count": null,
      "outputs": [
        {
          "output_type": "stream",
          "text": [
            "4     appalachian state\n",
            "23            charlotte\n",
            "26     coastal carolina\n",
            "39     georgia southern\n",
            "40        georgia state\n",
            "52              liberty\n",
            "69    mississippi state\n",
            "87         old dominion\n",
            "Name: School, dtype: object\n",
            "0\n",
            "10                  army\n",
            "23             charlotte\n",
            "40         georgia state\n",
            "73                nevada\n",
            "97         south alabama\n",
            "112    texas-san antonio\n",
            "Name: School, dtype: object\n"
          ],
          "name": "stdout"
        },
        {
          "output_type": "execute_result",
          "data": {
            "text/plain": [
              "0"
            ]
          },
          "metadata": {
            "tags": []
          },
          "execution_count": 243
        }
      ]
    },
    {
      "cell_type": "code",
      "metadata": {
        "id": "tpnJKmlSP9lc"
      },
      "source": [
        "#discretize opening year\n",
        "openBucket = []\n",
        "\n",
        "for val in finalMerge[\"Opened\"]:\n",
        "  if val < 1930:\n",
        "    openBucket.append('1904-1930')\n",
        "  elif val < 1950:\n",
        "    openBucket.append('1930-1950')\n",
        "  elif val < 1970:\n",
        "    openBucket.append('1950-1970')\n",
        "  elif val < 1990:\n",
        "    openBucket.append('1970-1990')\n",
        "  else:\n",
        "    openBucket.append('1990-2017')\n",
        "\n",
        "finalMerge['Opened'] = openBucket\n",
        "finalMerge['Opened'] = finalMerge['Opened'].astype(\"category\").cat.reorder_categories(['1904-1930', '1930-1950','1950-1970', '1970-1990', '1990-2017'])"
      ],
      "execution_count": null,
      "outputs": []
    },
    {
      "cell_type": "code",
      "metadata": {
        "colab": {
          "base_uri": "https://localhost:8080/",
          "height": 204
        },
        "id": "NX7A3hCxEm9k",
        "outputId": "c5f01f4a-1aca-4890-f9c3-239b764e81e4"
      },
      "source": [
        "#lets add a new column with the combined categories \n",
        "confList = list(finalMerge['Conference_x'])\n",
        "\n",
        "for index, item in enumerate(confList):\n",
        "  if item == 'ACC' or item == 'Big Ten' or item == 'Big 12' or item == 'SEC' or item == 'Pac-12':\n",
        "    confList[index] = 'Power5'\n",
        "  else:\n",
        "    confList[index] = 'notPower'\n",
        "\n",
        "finalMerge['Power'] = confList\n",
        "finalMerge.head()"
      ],
      "execution_count": null,
      "outputs": [
        {
          "output_type": "execute_result",
          "data": {
            "text/html": [
              "<div>\n",
              "<style scoped>\n",
              "    .dataframe tbody tr th:only-of-type {\n",
              "        vertical-align: middle;\n",
              "    }\n",
              "\n",
              "    .dataframe tbody tr th {\n",
              "        vertical-align: top;\n",
              "    }\n",
              "\n",
              "    .dataframe thead th {\n",
              "        text-align: right;\n",
              "    }\n",
              "</style>\n",
              "<table border=\"1\" class=\"dataframe\">\n",
              "  <thead>\n",
              "    <tr style=\"text-align: right;\">\n",
              "      <th></th>\n",
              "      <th>School</th>\n",
              "      <th>Conference_x</th>\n",
              "      <th>Coach</th>\n",
              "      <th>SchoolPay</th>\n",
              "      <th>Capacity</th>\n",
              "      <th>Opened</th>\n",
              "      <th>St</th>\n",
              "      <th>GSR</th>\n",
              "      <th>FGR</th>\n",
              "      <th>Rank</th>\n",
              "      <th>Games</th>\n",
              "      <th>Yds</th>\n",
              "      <th>TDs</th>\n",
              "      <th>Ydspgm</th>\n",
              "      <th>Wins</th>\n",
              "      <th>Losses</th>\n",
              "      <th>Power</th>\n",
              "    </tr>\n",
              "  </thead>\n",
              "  <tbody>\n",
              "    <tr>\n",
              "      <th>0</th>\n",
              "      <td>air force</td>\n",
              "      <td>Mt. West</td>\n",
              "      <td>Troy Calhoun</td>\n",
              "      <td>885000.00</td>\n",
              "      <td>46692.00</td>\n",
              "      <td>1950-1970</td>\n",
              "      <td>CO</td>\n",
              "      <td>93.00</td>\n",
              "      <td>nan</td>\n",
              "      <td>51.00</td>\n",
              "      <td>13.00</td>\n",
              "      <td>5445.00</td>\n",
              "      <td>49.00</td>\n",
              "      <td>418.85</td>\n",
              "      <td>6.00</td>\n",
              "      <td>7.00</td>\n",
              "      <td>notPower</td>\n",
              "    </tr>\n",
              "    <tr>\n",
              "      <th>1</th>\n",
              "      <td>akron</td>\n",
              "      <td>MAC</td>\n",
              "      <td>Terry Bowden</td>\n",
              "      <td>411000.00</td>\n",
              "      <td>30000.00</td>\n",
              "      <td>1990-2017</td>\n",
              "      <td>OH</td>\n",
              "      <td>58.00</td>\n",
              "      <td>52.00</td>\n",
              "      <td>45.00</td>\n",
              "      <td>12.00</td>\n",
              "      <td>5126.00</td>\n",
              "      <td>41.00</td>\n",
              "      <td>427.17</td>\n",
              "      <td>1.00</td>\n",
              "      <td>11.00</td>\n",
              "      <td>notPower</td>\n",
              "    </tr>\n",
              "    <tr>\n",
              "      <th>2</th>\n",
              "      <td>alabama</td>\n",
              "      <td>SEC</td>\n",
              "      <td>Nick Saban</td>\n",
              "      <td>8307000.00</td>\n",
              "      <td>100077.00</td>\n",
              "      <td>1904-1930</td>\n",
              "      <td>AL</td>\n",
              "      <td>73.00</td>\n",
              "      <td>57.00</td>\n",
              "      <td>31.00</td>\n",
              "      <td>14.00</td>\n",
              "      <td>6237.00</td>\n",
              "      <td>71.00</td>\n",
              "      <td>445.50</td>\n",
              "      <td>13.00</td>\n",
              "      <td>1.00</td>\n",
              "      <td>Power5</td>\n",
              "    </tr>\n",
              "    <tr>\n",
              "      <th>3</th>\n",
              "      <td>alabama at birmingham</td>\n",
              "      <td>C-USA</td>\n",
              "      <td>Bill Clark</td>\n",
              "      <td>900000.00</td>\n",
              "      <td>71000.00</td>\n",
              "      <td>1904-1930</td>\n",
              "      <td>AL</td>\n",
              "      <td>60.00</td>\n",
              "      <td>55.00</td>\n",
              "      <td>50.00</td>\n",
              "      <td>12.00</td>\n",
              "      <td>5029.00</td>\n",
              "      <td>43.00</td>\n",
              "      <td>419.08</td>\n",
              "      <td>3.00</td>\n",
              "      <td>9.00</td>\n",
              "      <td>notPower</td>\n",
              "    </tr>\n",
              "    <tr>\n",
              "      <th>4</th>\n",
              "      <td>appalachian state</td>\n",
              "      <td>Sun Belt</td>\n",
              "      <td>Scott Satterfield</td>\n",
              "      <td>712500.00</td>\n",
              "      <td>30000.00</td>\n",
              "      <td>1950-1970</td>\n",
              "      <td>NC</td>\n",
              "      <td>68.00</td>\n",
              "      <td>56.00</td>\n",
              "      <td>nan</td>\n",
              "      <td>nan</td>\n",
              "      <td>nan</td>\n",
              "      <td>nan</td>\n",
              "      <td>nan</td>\n",
              "      <td>6.33</td>\n",
              "      <td>nan</td>\n",
              "      <td>notPower</td>\n",
              "    </tr>\n",
              "  </tbody>\n",
              "</table>\n",
              "</div>"
            ],
            "text/plain": [
              "                  School Conference_x  ... Losses     Power\n",
              "0              air force     Mt. West  ...   7.00  notPower\n",
              "1                  akron          MAC  ...  11.00  notPower\n",
              "2                alabama          SEC  ...   1.00    Power5\n",
              "3  alabama at birmingham        C-USA  ...   9.00  notPower\n",
              "4      appalachian state     Sun Belt  ...    nan  notPower\n",
              "\n",
              "[5 rows x 17 columns]"
            ]
          },
          "metadata": {
            "tags": []
          },
          "execution_count": 245
        }
      ]
    },
    {
      "cell_type": "code",
      "metadata": {
        "id": "eIAtUQGSeZst"
      },
      "source": [
        "finalMerge['SchoolPay_log'] = np.log(finalMerge['SchoolPay'])\n",
        "finalMerge['Capacity_log'] = np.log(finalMerge['Capacity'])"
      ],
      "execution_count": null,
      "outputs": []
    },
    {
      "cell_type": "markdown",
      "metadata": {
        "id": "q05dE15PMJOO"
      },
      "source": [
        "# Viz and EDA"
      ]
    },
    {
      "cell_type": "markdown",
      "metadata": {
        "id": "33MZpnFxRBJt"
      },
      "source": [
        "Visualization and EDA will help serve as the main way to drive the direction of analysis. By finding patterns at this stage, it will benefit us in the modeling phase. "
      ]
    },
    {
      "cell_type": "code",
      "metadata": {
        "colab": {
          "base_uri": "https://localhost:8080/",
          "height": 307
        },
        "id": "yeNuRZIZDM1-",
        "outputId": "b6b00ece-c087-4db3-8024-fdc874dd50ce"
      },
      "source": [
        "# Plot the histogram thanks to the distplot function\n",
        "sns.distplot( a=finalMerge[\"SchoolPay\"], hist=True)"
      ],
      "execution_count": null,
      "outputs": [
        {
          "output_type": "execute_result",
          "data": {
            "text/plain": [
              "<matplotlib.axes._subplots.AxesSubplot at 0x7ff432156290>"
            ]
          },
          "metadata": {
            "tags": []
          },
          "execution_count": 247
        },
        {
          "output_type": "display_data",
          "data": {
            "image/png": "[encoded data removed]",
            "text/plain": [
              "<Figure size 432x288 with 1 Axes>"
            ]
          },
          "metadata": {
            "tags": [],
            "needs_background": "light"
          }
        }
      ]
    },
    {
      "cell_type": "markdown",
      "metadata": {
        "id": "mcEqOyi16vwm"
      },
      "source": [
        "Although this is a simple visualization of the distribution of school pay. It shows that school pay is not normally distributed at all. However, it serves as a baseline to show that when we split school pay by group it becomes more normally distributed. This indicates that the group a school falls in will be a critical predictor. "
      ]
    },
    {
      "cell_type": "code",
      "metadata": {
        "colab": {
          "base_uri": "https://localhost:8080/"
        },
        "id": "LyDpiXTGlfyq",
        "outputId": "0e40979c-eef1-4949-dc3e-8fb934472b14"
      },
      "source": [
        "finalMerge.Power.value_counts()\n",
        "#but how similar are these groups?"
      ],
      "execution_count": null,
      "outputs": [
        {
          "output_type": "execute_result",
          "data": {
            "text/plain": [
              "Power5      65\n",
              "notPower    62\n",
              "Name: Power, dtype: int64"
            ]
          },
          "metadata": {
            "tags": []
          },
          "execution_count": 248
        }
      ]
    },
    {
      "cell_type": "code",
      "metadata": {
        "colab": {
          "base_uri": "https://localhost:8080/",
          "height": 325
        },
        "id": "1eoYeJN7lf3e",
        "outputId": "b39a45cd-7417-48f9-e588-f6dc8461cf67"
      },
      "source": [
        "ax = sns.boxplot( x='Conference_x', y='SchoolPay', data=finalMerge, hue='Power')\n",
        "ax.set_xticklabels(ax.get_xticklabels(),rotation=90)\n",
        "plt.show()"
      ],
      "execution_count": null,
      "outputs": [
        {
          "output_type": "display_data",
          "data": {
            "image/png": "[encoded data removed]",
            "text/plain": [
              "<Figure size 432x288 with 1 Axes>"
            ]
          },
          "metadata": {
            "tags": [],
            "needs_background": "light"
          }
        }
      ]
    },
    {
      "cell_type": "markdown",
      "metadata": {
        "id": "XncOBQxx8Shi"
      },
      "source": [
        "This boxplot shows a coaches pay given the conference they are in. There is added insight here that encodes if a school is considered in the Power5 with color. As we can see, this clearly shows there is a significant difference between being a Power5 school or not. "
      ]
    },
    {
      "cell_type": "code",
      "metadata": {
        "colab": {
          "base_uri": "https://localhost:8080/",
          "height": 290
        },
        "id": "_zeNG2z8yYFi",
        "outputId": "c6e8beaf-0727-4bc9-b55c-c327dd4d0c46"
      },
      "source": [
        "ax = sns.violinplot( x='Power', y='SchoolPay', data=finalMerge)\n",
        "plt.show()"
      ],
      "execution_count": null,
      "outputs": [
        {
          "output_type": "display_data",
          "data": {
            "image/png": "[encoded data removed]",
            "text/plain": [
              "<Figure size 432x288 with 1 Axes>"
            ]
          },
          "metadata": {
            "tags": [],
            "needs_background": "light"
          }
        }
      ]
    },
    {
      "cell_type": "markdown",
      "metadata": {
        "id": "n3FioUicC0PU"
      },
      "source": [
        "To confirm the idea that Power 5 status will play a key role we can continue to explore this idea. This visualization shows the violin plot for school pay given the Power 5 group status. It reinforces a clear separation. "
      ]
    },
    {
      "cell_type": "code",
      "metadata": {
        "colab": {
          "base_uri": "https://localhost:8080/",
          "height": 743
        },
        "id": "zvU6QLt8dLpq",
        "outputId": "2434eac6-0110-4591-ee75-2f29a8583591"
      },
      "source": [
        "finalMerge_2 = finalMerge[['Power','Capacity','Wins','GSR','SchoolPay']]\n",
        "sns.pairplot(finalMerge_2, hue=\"Power\")"
      ],
      "execution_count": null,
      "outputs": [
        {
          "output_type": "execute_result",
          "data": {
            "text/plain": [
              "<seaborn.axisgrid.PairGrid at 0x7ff4315f1190>"
            ]
          },
          "metadata": {
            "tags": []
          },
          "execution_count": 251
        },
        {
          "output_type": "display_data",
          "data": {
            "image/png": "[encoded data removed]",
            "text/plain": [
              "<Figure size 802.25x720 with 20 Axes>"
            ]
          },
          "metadata": {
            "tags": [],
            "needs_background": "light"
          }
        }
      ]
    },
    {
      "cell_type": "markdown",
      "metadata": {
        "id": "UBQE0oL_Dxvz"
      },
      "source": [
        "This pairs plot again separates Power 5 group status. It shows a subset of the data which I believe to be relevant predictors. Other than Power 5 status, all the data in this visualization is continues. It highlights some key features. Firstly, on the bottom right we can see that the distributions of school pay given Power 5 status are very different. This is also evident in capacity. What is interesting is that Wins has a clear trend for Power5 schools but not for non Power 5 schools. This will be further explored below. Finally, GSR seems to have no impact on school pay at all. The distributions between Power 5 and non Power 5 schools is almost identical, furthermore, there seems to be no relationship between GSR and coaches pay either. "
      ]
    },
    {
      "cell_type": "code",
      "metadata": {
        "colab": {
          "base_uri": "https://localhost:8080/",
          "height": 666
        },
        "id": "X-ihtPQEATfn",
        "outputId": "4f6a5620-3fad-4f3e-d4c6-81e6d60360e3"
      },
      "source": [
        "sns.regplot(x=finalMerge[\"Capacity\"], y=finalMerge[\"SchoolPay\"])\n",
        "plt.title('My title')\n",
        "plt.show()\n",
        "\n",
        "x = sns.lmplot(x=\"Capacity\", y=\"SchoolPay\", hue=\"Power\", data=finalMerge)\n",
        "plt.title('My title')\n",
        "plt.show()"
      ],
      "execution_count": null,
      "outputs": [
        {
          "output_type": "display_data",
          "data": {
            "image/png": "[encoded data removed]",
            "text/plain": [
              "<Figure size 432x288 with 1 Axes>"
            ]
          },
          "metadata": {
            "tags": [],
            "needs_background": "light"
          }
        },
        {
          "output_type": "display_data",
          "data": {
            "image/png": "[encoded data removed]",
            "text/plain": [
              "<Figure size 442.25x360 with 1 Axes>"
            ]
          },
          "metadata": {
            "tags": [],
            "needs_background": "light"
          }
        }
      ]
    },
    {
      "cell_type": "markdown",
      "metadata": {
        "id": "MQ14_AcaGu4w"
      },
      "source": [
        "These two plots show the relationship between capacity and school pay. However, the second plot contains two separate trend lines and colors based on Power 5 status. The first plot looks to have some heteroskedasticity, as capacity increases the errors increase. Despite this there is a clear linear relationship. However, when we control for Power 5 status and use two trend lines, one for each group, the heteroskedasticity seems to disappear. We can also see that there is distinctly two different slopes for each group. This is important to understand at this stage as it will guide the modeling phase. \n"
      ]
    },
    {
      "cell_type": "code",
      "metadata": {
        "colab": {
          "base_uri": "https://localhost:8080/",
          "height": 656
        },
        "id": "AbK-HzIjHEKu",
        "outputId": "23921141-9510-4e4c-c893-5ae446ab3282"
      },
      "source": [
        "sns.regplot(x=finalMerge[\"Wins\"], y=finalMerge[\"SchoolPay\"])\n",
        "plt.show()\n",
        "\n",
        "sns.lmplot(x=\"Wins\", y=\"SchoolPay\", hue=\"Power\", data=finalMerge)\n",
        "plt.show()"
      ],
      "execution_count": null,
      "outputs": [
        {
          "output_type": "display_data",
          "data": {
            "image/png": "[encoded data removed]",
            "text/plain": [
              "<Figure size 432x288 with 1 Axes>"
            ]
          },
          "metadata": {
            "tags": [],
            "needs_background": "light"
          }
        },
        {
          "output_type": "display_data",
          "data": {
            "image/png": "[encoded data removed]",
            "text/plain": [
              "<Figure size 442.25x360 with 1 Axes>"
            ]
          },
          "metadata": {
            "tags": [],
            "needs_background": "light"
          }
        }
      ]
    },
    {
      "cell_type": "markdown",
      "metadata": {
        "id": "cpTbzDURRVlF"
      },
      "source": [
        "These visualizations also highlight how a predictor that seems to have a low correlation with coaches pay can come alive when controlling for Power 5 membership. The first graph shows that there is a weak positive correlation with wins and school pay. However, once we control for the Power 5 membership the relationship becomes more apparent. For the Power 5 schools, there is a definite relationship between winning and a coaches pay. However, for the non Power 5 schools, winning seems less important."
      ]
    },
    {
      "cell_type": "code",
      "metadata": {
        "colab": {
          "base_uri": "https://localhost:8080/",
          "height": 455
        },
        "id": "v-H5KEo6btIT",
        "outputId": "d2210c1f-ca94-4639-f452-f5fbb075e373"
      },
      "source": [
        "# Draw a pointplot to show pulse as a function of three categorical factors\n",
        "#order the opened \n",
        "g = sns.catplot(x=\"Opened\", y=\"SchoolPay\", hue=\"Power\",\n",
        "                capsize=.2, palette=\"YlGnBu_d\", height=6, aspect=.75,\n",
        "                kind=\"point\", data=finalMerge)"
      ],
      "execution_count": null,
      "outputs": [
        {
          "output_type": "display_data",
          "data": {
            "image/png": "[encoded data removed]",
            "text/plain": [
              "<Figure size 406.25x432 with 1 Axes>"
            ]
          },
          "metadata": {
            "tags": [],
            "needs_background": "light"
          }
        }
      ]
    },
    {
      "cell_type": "markdown",
      "metadata": {
        "id": "Esahe09VX-ec"
      },
      "source": [
        "This visualization shows the range of coaches pay given the year the stadium was opened. It is also separated by Power 5 status. It shows that schools, especially power 5 ones, with older stadiums tend to have a higher coaches salary. However, this does not mean that opening year will be a quality predictor in our model. "
      ]
    },
    {
      "cell_type": "code",
      "metadata": {
        "colab": {
          "base_uri": "https://localhost:8080/",
          "height": 313
        },
        "id": "GNDLHLET3kQr",
        "outputId": "8f8ff232-9e4a-4959-e172-d625a87e6585"
      },
      "source": [
        "corr = finalMerge.corr()\n",
        "corr.style.background_gradient(cmap='coolwarm')\n",
        "corr.style.background_gradient(cmap='coolwarm').set_precision(2)"
      ],
      "execution_count": null,
      "outputs": [
        {
          "output_type": "execute_result",
          "data": {
            "text/html": [
              "<style  type=\"text/css\" >\n",
              "#T_9e78b0c4_a559_11eb_a672_0242ac1c0002row0_col0,#T_9e78b0c4_a559_11eb_a672_0242ac1c0002row1_col1,#T_9e78b0c4_a559_11eb_a672_0242ac1c0002row2_col2,#T_9e78b0c4_a559_11eb_a672_0242ac1c0002row3_col3,#T_9e78b0c4_a559_11eb_a672_0242ac1c0002row4_col4,#T_9e78b0c4_a559_11eb_a672_0242ac1c0002row5_col5,#T_9e78b0c4_a559_11eb_a672_0242ac1c0002row6_col6,#T_9e78b0c4_a559_11eb_a672_0242ac1c0002row7_col7,#T_9e78b0c4_a559_11eb_a672_0242ac1c0002row8_col8,#T_9e78b0c4_a559_11eb_a672_0242ac1c0002row9_col9,#T_9e78b0c4_a559_11eb_a672_0242ac1c0002row10_col10,#T_9e78b0c4_a559_11eb_a672_0242ac1c0002row11_col11,#T_9e78b0c4_a559_11eb_a672_0242ac1c0002row12_col12{\n",
              "            background-color:  #b40426;\n",
              "            color:  #f1f1f1;\n",
              "        }#T_9e78b0c4_a559_11eb_a672_0242ac1c0002row0_col1,#T_9e78b0c4_a559_11eb_a672_0242ac1c0002row12_col11{\n",
              "            background-color:  #e26952;\n",
              "            color:  #000000;\n",
              "        }#T_9e78b0c4_a559_11eb_a672_0242ac1c0002row0_col2,#T_9e78b0c4_a559_11eb_a672_0242ac1c0002row1_col10,#T_9e78b0c4_a559_11eb_a672_0242ac1c0002row6_col0{\n",
              "            background-color:  #b3cdfb;\n",
              "            color:  #000000;\n",
              "        }#T_9e78b0c4_a559_11eb_a672_0242ac1c0002row0_col3{\n",
              "            background-color:  #8badfd;\n",
              "            color:  #000000;\n",
              "        }#T_9e78b0c4_a559_11eb_a672_0242ac1c0002row0_col4,#T_9e78b0c4_a559_11eb_a672_0242ac1c0002row12_col4{\n",
              "            background-color:  #cedaeb;\n",
              "            color:  #000000;\n",
              "        }#T_9e78b0c4_a559_11eb_a672_0242ac1c0002row0_col5,#T_9e78b0c4_a559_11eb_a672_0242ac1c0002row12_col7,#T_9e78b0c4_a559_11eb_a672_0242ac1c0002row12_col8{\n",
              "            background-color:  #e5d8d1;\n",
              "            color:  #000000;\n",
              "        }#T_9e78b0c4_a559_11eb_a672_0242ac1c0002row0_col6{\n",
              "            background-color:  #ead4c8;\n",
              "            color:  #000000;\n",
              "        }#T_9e78b0c4_a559_11eb_a672_0242ac1c0002row0_col7{\n",
              "            background-color:  #ecd3c5;\n",
              "            color:  #000000;\n",
              "        }#T_9e78b0c4_a559_11eb_a672_0242ac1c0002row0_col8{\n",
              "            background-color:  #e4d9d2;\n",
              "            color:  #000000;\n",
              "        }#T_9e78b0c4_a559_11eb_a672_0242ac1c0002row0_col9{\n",
              "            background-color:  #f7b497;\n",
              "            color:  #000000;\n",
              "        }#T_9e78b0c4_a559_11eb_a672_0242ac1c0002row0_col10{\n",
              "            background-color:  #a6c4fe;\n",
              "            color:  #000000;\n",
              "        }#T_9e78b0c4_a559_11eb_a672_0242ac1c0002row0_col11,#T_9e78b0c4_a559_11eb_a672_0242ac1c0002row6_col7{\n",
              "            background-color:  #c73635;\n",
              "            color:  #f1f1f1;\n",
              "        }#T_9e78b0c4_a559_11eb_a672_0242ac1c0002row0_col12,#T_9e78b0c4_a559_11eb_a672_0242ac1c0002row9_col6{\n",
              "            background-color:  #e9785d;\n",
              "            color:  #000000;\n",
              "        }#T_9e78b0c4_a559_11eb_a672_0242ac1c0002row1_col0,#T_9e78b0c4_a559_11eb_a672_0242ac1c0002row2_col3,#T_9e78b0c4_a559_11eb_a672_0242ac1c0002row5_col9{\n",
              "            background-color:  #e0654f;\n",
              "            color:  #000000;\n",
              "        }#T_9e78b0c4_a559_11eb_a672_0242ac1c0002row1_col2,#T_9e78b0c4_a559_11eb_a672_0242ac1c0002row9_col3{\n",
              "            background-color:  #96b7ff;\n",
              "            color:  #000000;\n",
              "        }#T_9e78b0c4_a559_11eb_a672_0242ac1c0002row1_col3,#T_9e78b0c4_a559_11eb_a672_0242ac1c0002row4_col1{\n",
              "            background-color:  #6282ea;\n",
              "            color:  #000000;\n",
              "        }#T_9e78b0c4_a559_11eb_a672_0242ac1c0002row1_col4,#T_9e78b0c4_a559_11eb_a672_0242ac1c0002row2_col11{\n",
              "            background-color:  #cbd8ee;\n",
              "            color:  #000000;\n",
              "        }#T_9e78b0c4_a559_11eb_a672_0242ac1c0002row1_col5,#T_9e78b0c4_a559_11eb_a672_0242ac1c0002row2_col6{\n",
              "            background-color:  #dadce0;\n",
              "            color:  #000000;\n",
              "        }#T_9e78b0c4_a559_11eb_a672_0242ac1c0002row1_col6{\n",
              "            background-color:  #ebd3c6;\n",
              "            color:  #000000;\n",
              "        }#T_9e78b0c4_a559_11eb_a672_0242ac1c0002row1_col7,#T_9e78b0c4_a559_11eb_a672_0242ac1c0002row12_col6{\n",
              "            background-color:  #e9d5cb;\n",
              "            color:  #000000;\n",
              "        }#T_9e78b0c4_a559_11eb_a672_0242ac1c0002row1_col8{\n",
              "            background-color:  #e8d6cc;\n",
              "            color:  #000000;\n",
              "        }#T_9e78b0c4_a559_11eb_a672_0242ac1c0002row1_col9{\n",
              "            background-color:  #f5c0a7;\n",
              "            color:  #000000;\n",
              "        }#T_9e78b0c4_a559_11eb_a672_0242ac1c0002row1_col11{\n",
              "            background-color:  #e67259;\n",
              "            color:  #000000;\n",
              "        }#T_9e78b0c4_a559_11eb_a672_0242ac1c0002row1_col12,#T_9e78b0c4_a559_11eb_a672_0242ac1c0002row6_col8,#T_9e78b0c4_a559_11eb_a672_0242ac1c0002row8_col6,#T_9e78b0c4_a559_11eb_a672_0242ac1c0002row12_col1{\n",
              "            background-color:  #bb1b2c;\n",
              "            color:  #f1f1f1;\n",
              "        }#T_9e78b0c4_a559_11eb_a672_0242ac1c0002row2_col0,#T_9e78b0c4_a559_11eb_a672_0242ac1c0002row5_col11,#T_9e78b0c4_a559_11eb_a672_0242ac1c0002row9_col2{\n",
              "            background-color:  #c3d5f4;\n",
              "            color:  #000000;\n",
              "        }#T_9e78b0c4_a559_11eb_a672_0242ac1c0002row2_col1,#T_9e78b0c4_a559_11eb_a672_0242ac1c0002row2_col12,#T_9e78b0c4_a559_11eb_a672_0242ac1c0002row6_col12,#T_9e78b0c4_a559_11eb_a672_0242ac1c0002row11_col3{\n",
              "            background-color:  #98b9ff;\n",
              "            color:  #000000;\n",
              "        }#T_9e78b0c4_a559_11eb_a672_0242ac1c0002row2_col4{\n",
              "            background-color:  #e0dbd8;\n",
              "            color:  #000000;\n",
              "        }#T_9e78b0c4_a559_11eb_a672_0242ac1c0002row2_col5{\n",
              "            background-color:  #dcdddd;\n",
              "            color:  #000000;\n",
              "        }#T_9e78b0c4_a559_11eb_a672_0242ac1c0002row2_col7{\n",
              "            background-color:  #d6dce4;\n",
              "            color:  #000000;\n",
              "        }#T_9e78b0c4_a559_11eb_a672_0242ac1c0002row2_col8{\n",
              "            background-color:  #d3dbe7;\n",
              "            color:  #000000;\n",
              "        }#T_9e78b0c4_a559_11eb_a672_0242ac1c0002row2_col9{\n",
              "            background-color:  #f5c4ac;\n",
              "            color:  #000000;\n",
              "        }#T_9e78b0c4_a559_11eb_a672_0242ac1c0002row2_col10,#T_9e78b0c4_a559_11eb_a672_0242ac1c0002row3_col11,#T_9e78b0c4_a559_11eb_a672_0242ac1c0002row7_col11{\n",
              "            background-color:  #b6cefa;\n",
              "            color:  #000000;\n",
              "        }#T_9e78b0c4_a559_11eb_a672_0242ac1c0002row3_col0,#T_9e78b0c4_a559_11eb_a672_0242ac1c0002row5_col1{\n",
              "            background-color:  #afcafc;\n",
              "            color:  #000000;\n",
              "        }#T_9e78b0c4_a559_11eb_a672_0242ac1c0002row3_col1{\n",
              "            background-color:  #7da0f9;\n",
              "            color:  #000000;\n",
              "        }#T_9e78b0c4_a559_11eb_a672_0242ac1c0002row3_col2,#T_9e78b0c4_a559_11eb_a672_0242ac1c0002row7_col9{\n",
              "            background-color:  #de614d;\n",
              "            color:  #000000;\n",
              "        }#T_9e78b0c4_a559_11eb_a672_0242ac1c0002row3_col4{\n",
              "            background-color:  #dddcdc;\n",
              "            color:  #000000;\n",
              "        }#T_9e78b0c4_a559_11eb_a672_0242ac1c0002row3_col5,#T_9e78b0c4_a559_11eb_a672_0242ac1c0002row3_col8{\n",
              "            background-color:  #d4dbe6;\n",
              "            color:  #000000;\n",
              "        }#T_9e78b0c4_a559_11eb_a672_0242ac1c0002row3_col6,#T_9e78b0c4_a559_11eb_a672_0242ac1c0002row9_col11{\n",
              "            background-color:  #d9dce1;\n",
              "            color:  #000000;\n",
              "        }#T_9e78b0c4_a559_11eb_a672_0242ac1c0002row3_col7{\n",
              "            background-color:  #cfdaea;\n",
              "            color:  #000000;\n",
              "        }#T_9e78b0c4_a559_11eb_a672_0242ac1c0002row3_col9{\n",
              "            background-color:  #eed0c0;\n",
              "            color:  #000000;\n",
              "        }#T_9e78b0c4_a559_11eb_a672_0242ac1c0002row3_col10,#T_9e78b0c4_a559_11eb_a672_0242ac1c0002row7_col0{\n",
              "            background-color:  #c5d6f2;\n",
              "            color:  #000000;\n",
              "        }#T_9e78b0c4_a559_11eb_a672_0242ac1c0002row3_col12,#T_9e78b0c4_a559_11eb_a672_0242ac1c0002row4_col0{\n",
              "            background-color:  #7a9df8;\n",
              "            color:  #000000;\n",
              "        }#T_9e78b0c4_a559_11eb_a672_0242ac1c0002row4_col2{\n",
              "            background-color:  #89acfd;\n",
              "            color:  #000000;\n",
              "        }#T_9e78b0c4_a559_11eb_a672_0242ac1c0002row4_col3{\n",
              "            background-color:  #6b8df0;\n",
              "            color:  #000000;\n",
              "        }#T_9e78b0c4_a559_11eb_a672_0242ac1c0002row4_col5,#T_9e78b0c4_a559_11eb_a672_0242ac1c0002row12_col3{\n",
              "            background-color:  #6a8bef;\n",
              "            color:  #000000;\n",
              "        }#T_9e78b0c4_a559_11eb_a672_0242ac1c0002row4_col6,#T_9e78b0c4_a559_11eb_a672_0242ac1c0002row4_col7,#T_9e78b0c4_a559_11eb_a672_0242ac1c0002row4_col8,#T_9e78b0c4_a559_11eb_a672_0242ac1c0002row8_col4,#T_9e78b0c4_a559_11eb_a672_0242ac1c0002row9_col10,#T_9e78b0c4_a559_11eb_a672_0242ac1c0002row10_col0,#T_9e78b0c4_a559_11eb_a672_0242ac1c0002row10_col1,#T_9e78b0c4_a559_11eb_a672_0242ac1c0002row10_col2,#T_9e78b0c4_a559_11eb_a672_0242ac1c0002row10_col3,#T_9e78b0c4_a559_11eb_a672_0242ac1c0002row10_col5,#T_9e78b0c4_a559_11eb_a672_0242ac1c0002row10_col9,#T_9e78b0c4_a559_11eb_a672_0242ac1c0002row10_col11,#T_9e78b0c4_a559_11eb_a672_0242ac1c0002row10_col12{\n",
              "            background-color:  #3b4cc0;\n",
              "            color:  #f1f1f1;\n",
              "        }#T_9e78b0c4_a559_11eb_a672_0242ac1c0002row4_col9{\n",
              "            background-color:  #85a8fc;\n",
              "            color:  #000000;\n",
              "        }#T_9e78b0c4_a559_11eb_a672_0242ac1c0002row4_col10{\n",
              "            background-color:  #f39475;\n",
              "            color:  #000000;\n",
              "        }#T_9e78b0c4_a559_11eb_a672_0242ac1c0002row4_col11{\n",
              "            background-color:  #779af7;\n",
              "            color:  #000000;\n",
              "        }#T_9e78b0c4_a559_11eb_a672_0242ac1c0002row4_col12{\n",
              "            background-color:  #5e7de7;\n",
              "            color:  #000000;\n",
              "        }#T_9e78b0c4_a559_11eb_a672_0242ac1c0002row5_col0{\n",
              "            background-color:  #ccd9ed;\n",
              "            color:  #000000;\n",
              "        }#T_9e78b0c4_a559_11eb_a672_0242ac1c0002row5_col2,#T_9e78b0c4_a559_11eb_a672_0242ac1c0002row7_col1{\n",
              "            background-color:  #b1cbfc;\n",
              "            color:  #000000;\n",
              "        }#T_9e78b0c4_a559_11eb_a672_0242ac1c0002row5_col3{\n",
              "            background-color:  #90b2fe;\n",
              "            color:  #000000;\n",
              "        }#T_9e78b0c4_a559_11eb_a672_0242ac1c0002row5_col4,#T_9e78b0c4_a559_11eb_a672_0242ac1c0002row12_col2{\n",
              "            background-color:  #9ebeff;\n",
              "            color:  #000000;\n",
              "        }#T_9e78b0c4_a559_11eb_a672_0242ac1c0002row5_col6{\n",
              "            background-color:  #f08a6c;\n",
              "            color:  #000000;\n",
              "        }#T_9e78b0c4_a559_11eb_a672_0242ac1c0002row5_col7{\n",
              "            background-color:  #f08b6e;\n",
              "            color:  #000000;\n",
              "        }#T_9e78b0c4_a559_11eb_a672_0242ac1c0002row5_col8{\n",
              "            background-color:  #f7b99e;\n",
              "            color:  #000000;\n",
              "        }#T_9e78b0c4_a559_11eb_a672_0242ac1c0002row5_col10{\n",
              "            background-color:  #7699f6;\n",
              "            color:  #000000;\n",
              "        }#T_9e78b0c4_a559_11eb_a672_0242ac1c0002row5_col12,#T_9e78b0c4_a559_11eb_a672_0242ac1c0002row7_col12,#T_9e78b0c4_a559_11eb_a672_0242ac1c0002row8_col0{\n",
              "            background-color:  #a2c1ff;\n",
              "            color:  #000000;\n",
              "        }#T_9e78b0c4_a559_11eb_a672_0242ac1c0002row6_col1,#T_9e78b0c4_a559_11eb_a672_0242ac1c0002row6_col11{\n",
              "            background-color:  #a7c5fe;\n",
              "            color:  #000000;\n",
              "        }#T_9e78b0c4_a559_11eb_a672_0242ac1c0002row6_col2{\n",
              "            background-color:  #7ea1fa;\n",
              "            color:  #000000;\n",
              "        }#T_9e78b0c4_a559_11eb_a672_0242ac1c0002row6_col3,#T_9e78b0c4_a559_11eb_a672_0242ac1c0002row7_col3{\n",
              "            background-color:  #6788ee;\n",
              "            color:  #000000;\n",
              "        }#T_9e78b0c4_a559_11eb_a672_0242ac1c0002row6_col4{\n",
              "            background-color:  #3d50c3;\n",
              "            color:  #f1f1f1;\n",
              "        }#T_9e78b0c4_a559_11eb_a672_0242ac1c0002row6_col5{\n",
              "            background-color:  #f59c7d;\n",
              "            color:  #000000;\n",
              "        }#T_9e78b0c4_a559_11eb_a672_0242ac1c0002row6_col9{\n",
              "            background-color:  #e8765c;\n",
              "            color:  #000000;\n",
              "        }#T_9e78b0c4_a559_11eb_a672_0242ac1c0002row6_col10{\n",
              "            background-color:  #7396f5;\n",
              "            color:  #000000;\n",
              "        }#T_9e78b0c4_a559_11eb_a672_0242ac1c0002row7_col2{\n",
              "            background-color:  #88abfd;\n",
              "            color:  #000000;\n",
              "        }#T_9e78b0c4_a559_11eb_a672_0242ac1c0002row7_col4{\n",
              "            background-color:  #516ddb;\n",
              "            color:  #000000;\n",
              "        }#T_9e78b0c4_a559_11eb_a672_0242ac1c0002row7_col5{\n",
              "            background-color:  #f39778;\n",
              "            color:  #000000;\n",
              "        }#T_9e78b0c4_a559_11eb_a672_0242ac1c0002row7_col6,#T_9e78b0c4_a559_11eb_a672_0242ac1c0002row11_col0{\n",
              "            background-color:  #c53334;\n",
              "            color:  #f1f1f1;\n",
              "        }#T_9e78b0c4_a559_11eb_a672_0242ac1c0002row7_col8{\n",
              "            background-color:  #d0473d;\n",
              "            color:  #f1f1f1;\n",
              "        }#T_9e78b0c4_a559_11eb_a672_0242ac1c0002row7_col10{\n",
              "            background-color:  #6384eb;\n",
              "            color:  #000000;\n",
              "        }#T_9e78b0c4_a559_11eb_a672_0242ac1c0002row8_col1{\n",
              "            background-color:  #9dbdff;\n",
              "            color:  #000000;\n",
              "        }#T_9e78b0c4_a559_11eb_a672_0242ac1c0002row8_col2,#T_9e78b0c4_a559_11eb_a672_0242ac1c0002row10_col6{\n",
              "            background-color:  #6c8ff1;\n",
              "            color:  #000000;\n",
              "        }#T_9e78b0c4_a559_11eb_a672_0242ac1c0002row8_col3{\n",
              "            background-color:  #5977e3;\n",
              "            color:  #000000;\n",
              "        }#T_9e78b0c4_a559_11eb_a672_0242ac1c0002row8_col5{\n",
              "            background-color:  #f1cdba;\n",
              "            color:  #000000;\n",
              "        }#T_9e78b0c4_a559_11eb_a672_0242ac1c0002row8_col7{\n",
              "            background-color:  #d24b40;\n",
              "            color:  #f1f1f1;\n",
              "        }#T_9e78b0c4_a559_11eb_a672_0242ac1c0002row8_col9,#T_9e78b0c4_a559_11eb_a672_0242ac1c0002row9_col8,#T_9e78b0c4_a559_11eb_a672_0242ac1c0002row10_col4{\n",
              "            background-color:  #f39577;\n",
              "            color:  #000000;\n",
              "        }#T_9e78b0c4_a559_11eb_a672_0242ac1c0002row8_col10{\n",
              "            background-color:  #86a9fc;\n",
              "            color:  #000000;\n",
              "        }#T_9e78b0c4_a559_11eb_a672_0242ac1c0002row8_col11{\n",
              "            background-color:  #97b8ff;\n",
              "            color:  #000000;\n",
              "        }#T_9e78b0c4_a559_11eb_a672_0242ac1c0002row8_col12{\n",
              "            background-color:  #8fb1fe;\n",
              "            color:  #000000;\n",
              "        }#T_9e78b0c4_a559_11eb_a672_0242ac1c0002row9_col0{\n",
              "            background-color:  #e3d9d3;\n",
              "            color:  #000000;\n",
              "        }#T_9e78b0c4_a559_11eb_a672_0242ac1c0002row9_col1{\n",
              "            background-color:  #cad8ef;\n",
              "            color:  #000000;\n",
              "        }#T_9e78b0c4_a559_11eb_a672_0242ac1c0002row9_col4,#T_9e78b0c4_a559_11eb_a672_0242ac1c0002row10_col8{\n",
              "            background-color:  #82a6fb;\n",
              "            color:  #000000;\n",
              "        }#T_9e78b0c4_a559_11eb_a672_0242ac1c0002row9_col5,#T_9e78b0c4_a559_11eb_a672_0242ac1c0002row11_col1{\n",
              "            background-color:  #e7745b;\n",
              "            color:  #000000;\n",
              "        }#T_9e78b0c4_a559_11eb_a672_0242ac1c0002row9_col7{\n",
              "            background-color:  #e16751;\n",
              "            color:  #000000;\n",
              "        }#T_9e78b0c4_a559_11eb_a672_0242ac1c0002row9_col12{\n",
              "            background-color:  #bad0f8;\n",
              "            color:  #000000;\n",
              "        }#T_9e78b0c4_a559_11eb_a672_0242ac1c0002row10_col7{\n",
              "            background-color:  #4961d2;\n",
              "            color:  #f1f1f1;\n",
              "        }#T_9e78b0c4_a559_11eb_a672_0242ac1c0002row11_col2{\n",
              "            background-color:  #c1d4f4;\n",
              "            color:  #000000;\n",
              "        }#T_9e78b0c4_a559_11eb_a672_0242ac1c0002row11_col4{\n",
              "            background-color:  #d1dae9;\n",
              "            color:  #000000;\n",
              "        }#T_9e78b0c4_a559_11eb_a672_0242ac1c0002row11_col5,#T_9e78b0c4_a559_11eb_a672_0242ac1c0002row11_col8{\n",
              "            background-color:  #e1dad6;\n",
              "            color:  #000000;\n",
              "        }#T_9e78b0c4_a559_11eb_a672_0242ac1c0002row11_col6,#T_9e78b0c4_a559_11eb_a672_0242ac1c0002row11_col7{\n",
              "            background-color:  #e7d7ce;\n",
              "            color:  #000000;\n",
              "        }#T_9e78b0c4_a559_11eb_a672_0242ac1c0002row11_col9{\n",
              "            background-color:  #f7ba9f;\n",
              "            color:  #000000;\n",
              "        }#T_9e78b0c4_a559_11eb_a672_0242ac1c0002row11_col10{\n",
              "            background-color:  #abc8fd;\n",
              "            color:  #000000;\n",
              "        }#T_9e78b0c4_a559_11eb_a672_0242ac1c0002row11_col12{\n",
              "            background-color:  #e46e56;\n",
              "            color:  #000000;\n",
              "        }#T_9e78b0c4_a559_11eb_a672_0242ac1c0002row12_col0{\n",
              "            background-color:  #e57058;\n",
              "            color:  #000000;\n",
              "        }#T_9e78b0c4_a559_11eb_a672_0242ac1c0002row12_col5{\n",
              "            background-color:  #d7dce3;\n",
              "            color:  #000000;\n",
              "        }#T_9e78b0c4_a559_11eb_a672_0242ac1c0002row12_col9{\n",
              "            background-color:  #f4c6af;\n",
              "            color:  #000000;\n",
              "        }#T_9e78b0c4_a559_11eb_a672_0242ac1c0002row12_col10{\n",
              "            background-color:  #bbd1f8;\n",
              "            color:  #000000;\n",
              "        }</style><table id=\"T_9e78b0c4_a559_11eb_a672_0242ac1c0002\" ><thead>    <tr>        <th class=\"blank level0\" ></th>        <th class=\"col_heading level0 col0\" >SchoolPay</th>        <th class=\"col_heading level0 col1\" >Capacity</th>        <th class=\"col_heading level0 col2\" >GSR</th>        <th class=\"col_heading level0 col3\" >FGR</th>        <th class=\"col_heading level0 col4\" >Rank</th>        <th class=\"col_heading level0 col5\" >Games</th>        <th class=\"col_heading level0 col6\" >Yds</th>        <th class=\"col_heading level0 col7\" >TDs</th>        <th class=\"col_heading level0 col8\" >Ydspgm</th>        <th class=\"col_heading level0 col9\" >Wins</th>        <th class=\"col_heading level0 col10\" >Losses</th>        <th class=\"col_heading level0 col11\" >SchoolPay_log</th>        <th class=\"col_heading level0 col12\" >Capacity_log</th>    </tr></thead><tbody>\n",
              "                <tr>\n",
              "                        <th id=\"T_9e78b0c4_a559_11eb_a672_0242ac1c0002level0_row0\" class=\"row_heading level0 row0\" >SchoolPay</th>\n",
              "                        <td id=\"T_9e78b0c4_a559_11eb_a672_0242ac1c0002row0_col0\" class=\"data row0 col0\" >1.00</td>\n",
              "                        <td id=\"T_9e78b0c4_a559_11eb_a672_0242ac1c0002row0_col1\" class=\"data row0 col1\" >0.82</td>\n",
              "                        <td id=\"T_9e78b0c4_a559_11eb_a672_0242ac1c0002row0_col2\" class=\"data row0 col2\" >0.20</td>\n",
              "                        <td id=\"T_9e78b0c4_a559_11eb_a672_0242ac1c0002row0_col3\" class=\"data row0 col3\" >0.12</td>\n",
              "                        <td id=\"T_9e78b0c4_a559_11eb_a672_0242ac1c0002row0_col4\" class=\"data row0 col4\" >-0.08</td>\n",
              "                        <td id=\"T_9e78b0c4_a559_11eb_a672_0242ac1c0002row0_col5\" class=\"data row0 col5\" >0.24</td>\n",
              "                        <td id=\"T_9e78b0c4_a559_11eb_a672_0242ac1c0002row0_col6\" class=\"data row0 col6\" >0.14</td>\n",
              "                        <td id=\"T_9e78b0c4_a559_11eb_a672_0242ac1c0002row0_col7\" class=\"data row0 col7\" >0.21</td>\n",
              "                        <td id=\"T_9e78b0c4_a559_11eb_a672_0242ac1c0002row0_col8\" class=\"data row0 col8\" >0.07</td>\n",
              "                        <td id=\"T_9e78b0c4_a559_11eb_a672_0242ac1c0002row0_col9\" class=\"data row0 col9\" >0.36</td>\n",
              "                        <td id=\"T_9e78b0c4_a559_11eb_a672_0242ac1c0002row0_col10\" class=\"data row0 col10\" >-0.35</td>\n",
              "                        <td id=\"T_9e78b0c4_a559_11eb_a672_0242ac1c0002row0_col11\" class=\"data row0 col11\" >0.93</td>\n",
              "                        <td id=\"T_9e78b0c4_a559_11eb_a672_0242ac1c0002row0_col12\" class=\"data row0 col12\" >0.79</td>\n",
              "            </tr>\n",
              "            <tr>\n",
              "                        <th id=\"T_9e78b0c4_a559_11eb_a672_0242ac1c0002level0_row1\" class=\"row_heading level0 row1\" >Capacity</th>\n",
              "                        <td id=\"T_9e78b0c4_a559_11eb_a672_0242ac1c0002row1_col0\" class=\"data row1 col0\" >0.82</td>\n",
              "                        <td id=\"T_9e78b0c4_a559_11eb_a672_0242ac1c0002row1_col1\" class=\"data row1 col1\" >1.00</td>\n",
              "                        <td id=\"T_9e78b0c4_a559_11eb_a672_0242ac1c0002row1_col2\" class=\"data row1 col2\" >0.09</td>\n",
              "                        <td id=\"T_9e78b0c4_a559_11eb_a672_0242ac1c0002row1_col3\" class=\"data row1 col3\" >-0.01</td>\n",
              "                        <td id=\"T_9e78b0c4_a559_11eb_a672_0242ac1c0002row1_col4\" class=\"data row1 col4\" >-0.11</td>\n",
              "                        <td id=\"T_9e78b0c4_a559_11eb_a672_0242ac1c0002row1_col5\" class=\"data row1 col5\" >0.18</td>\n",
              "                        <td id=\"T_9e78b0c4_a559_11eb_a672_0242ac1c0002row1_col6\" class=\"data row1 col6\" >0.14</td>\n",
              "                        <td id=\"T_9e78b0c4_a559_11eb_a672_0242ac1c0002row1_col7\" class=\"data row1 col7\" >0.18</td>\n",
              "                        <td id=\"T_9e78b0c4_a559_11eb_a672_0242ac1c0002row1_col8\" class=\"data row1 col8\" >0.11</td>\n",
              "                        <td id=\"T_9e78b0c4_a559_11eb_a672_0242ac1c0002row1_col9\" class=\"data row1 col9\" >0.28</td>\n",
              "                        <td id=\"T_9e78b0c4_a559_11eb_a672_0242ac1c0002row1_col10\" class=\"data row1 col10\" >-0.27</td>\n",
              "                        <td id=\"T_9e78b0c4_a559_11eb_a672_0242ac1c0002row1_col11\" class=\"data row1 col11\" >0.79</td>\n",
              "                        <td id=\"T_9e78b0c4_a559_11eb_a672_0242ac1c0002row1_col12\" class=\"data row1 col12\" >0.97</td>\n",
              "            </tr>\n",
              "            <tr>\n",
              "                        <th id=\"T_9e78b0c4_a559_11eb_a672_0242ac1c0002level0_row2\" class=\"row_heading level0 row2\" >GSR</th>\n",
              "                        <td id=\"T_9e78b0c4_a559_11eb_a672_0242ac1c0002row2_col0\" class=\"data row2 col0\" >0.20</td>\n",
              "                        <td id=\"T_9e78b0c4_a559_11eb_a672_0242ac1c0002row2_col1\" class=\"data row2 col1\" >0.09</td>\n",
              "                        <td id=\"T_9e78b0c4_a559_11eb_a672_0242ac1c0002row2_col2\" class=\"data row2 col2\" >1.00</td>\n",
              "                        <td id=\"T_9e78b0c4_a559_11eb_a672_0242ac1c0002row2_col3\" class=\"data row2 col3\" >0.84</td>\n",
              "                        <td id=\"T_9e78b0c4_a559_11eb_a672_0242ac1c0002row2_col4\" class=\"data row2 col4\" >0.05</td>\n",
              "                        <td id=\"T_9e78b0c4_a559_11eb_a672_0242ac1c0002row2_col5\" class=\"data row2 col5\" >0.19</td>\n",
              "                        <td id=\"T_9e78b0c4_a559_11eb_a672_0242ac1c0002row2_col6\" class=\"data row2 col6\" >0.01</td>\n",
              "                        <td id=\"T_9e78b0c4_a559_11eb_a672_0242ac1c0002row2_col7\" class=\"data row2 col7\" >0.04</td>\n",
              "                        <td id=\"T_9e78b0c4_a559_11eb_a672_0242ac1c0002row2_col8\" class=\"data row2 col8\" >-0.06</td>\n",
              "                        <td id=\"T_9e78b0c4_a559_11eb_a672_0242ac1c0002row2_col9\" class=\"data row2 col9\" >0.26</td>\n",
              "                        <td id=\"T_9e78b0c4_a559_11eb_a672_0242ac1c0002row2_col10\" class=\"data row2 col10\" >-0.25</td>\n",
              "                        <td id=\"T_9e78b0c4_a559_11eb_a672_0242ac1c0002row2_col11\" class=\"data row2 col11\" >0.25</td>\n",
              "                        <td id=\"T_9e78b0c4_a559_11eb_a672_0242ac1c0002row2_col12\" class=\"data row2 col12\" >0.12</td>\n",
              "            </tr>\n",
              "            <tr>\n",
              "                        <th id=\"T_9e78b0c4_a559_11eb_a672_0242ac1c0002level0_row3\" class=\"row_heading level0 row3\" >FGR</th>\n",
              "                        <td id=\"T_9e78b0c4_a559_11eb_a672_0242ac1c0002row3_col0\" class=\"data row3 col0\" >0.12</td>\n",
              "                        <td id=\"T_9e78b0c4_a559_11eb_a672_0242ac1c0002row3_col1\" class=\"data row3 col1\" >-0.01</td>\n",
              "                        <td id=\"T_9e78b0c4_a559_11eb_a672_0242ac1c0002row3_col2\" class=\"data row3 col2\" >0.84</td>\n",
              "                        <td id=\"T_9e78b0c4_a559_11eb_a672_0242ac1c0002row3_col3\" class=\"data row3 col3\" >1.00</td>\n",
              "                        <td id=\"T_9e78b0c4_a559_11eb_a672_0242ac1c0002row3_col4\" class=\"data row3 col4\" >0.02</td>\n",
              "                        <td id=\"T_9e78b0c4_a559_11eb_a672_0242ac1c0002row3_col5\" class=\"data row3 col5\" >0.14</td>\n",
              "                        <td id=\"T_9e78b0c4_a559_11eb_a672_0242ac1c0002row3_col6\" class=\"data row3 col6\" >0.01</td>\n",
              "                        <td id=\"T_9e78b0c4_a559_11eb_a672_0242ac1c0002row3_col7\" class=\"data row3 col7\" >0.01</td>\n",
              "                        <td id=\"T_9e78b0c4_a559_11eb_a672_0242ac1c0002row3_col8\" class=\"data row3 col8\" >-0.04</td>\n",
              "                        <td id=\"T_9e78b0c4_a559_11eb_a672_0242ac1c0002row3_col9\" class=\"data row3 col9\" >0.16</td>\n",
              "                        <td id=\"T_9e78b0c4_a559_11eb_a672_0242ac1c0002row3_col10\" class=\"data row3 col10\" >-0.16</td>\n",
              "                        <td id=\"T_9e78b0c4_a559_11eb_a672_0242ac1c0002row3_col11\" class=\"data row3 col11\" >0.17</td>\n",
              "                        <td id=\"T_9e78b0c4_a559_11eb_a672_0242ac1c0002row3_col12\" class=\"data row3 col12\" >0.02</td>\n",
              "            </tr>\n",
              "            <tr>\n",
              "                        <th id=\"T_9e78b0c4_a559_11eb_a672_0242ac1c0002level0_row4\" class=\"row_heading level0 row4\" >Rank</th>\n",
              "                        <td id=\"T_9e78b0c4_a559_11eb_a672_0242ac1c0002row4_col0\" class=\"data row4 col0\" >-0.08</td>\n",
              "                        <td id=\"T_9e78b0c4_a559_11eb_a672_0242ac1c0002row4_col1\" class=\"data row4 col1\" >-0.11</td>\n",
              "                        <td id=\"T_9e78b0c4_a559_11eb_a672_0242ac1c0002row4_col2\" class=\"data row4 col2\" >0.05</td>\n",
              "                        <td id=\"T_9e78b0c4_a559_11eb_a672_0242ac1c0002row4_col3\" class=\"data row4 col3\" >0.02</td>\n",
              "                        <td id=\"T_9e78b0c4_a559_11eb_a672_0242ac1c0002row4_col4\" class=\"data row4 col4\" >1.00</td>\n",
              "                        <td id=\"T_9e78b0c4_a559_11eb_a672_0242ac1c0002row4_col5\" class=\"data row4 col5\" >-0.38</td>\n",
              "                        <td id=\"T_9e78b0c4_a559_11eb_a672_0242ac1c0002row4_col6\" class=\"data row4 col6\" >-0.94</td>\n",
              "                        <td id=\"T_9e78b0c4_a559_11eb_a672_0242ac1c0002row4_col7\" class=\"data row4 col7\" >-0.82</td>\n",
              "                        <td id=\"T_9e78b0c4_a559_11eb_a672_0242ac1c0002row4_col8\" class=\"data row4 col8\" >-0.96</td>\n",
              "                        <td id=\"T_9e78b0c4_a559_11eb_a672_0242ac1c0002row4_col9\" class=\"data row4 col9\" >-0.53</td>\n",
              "                        <td id=\"T_9e78b0c4_a559_11eb_a672_0242ac1c0002row4_col10\" class=\"data row4 col10\" >0.53</td>\n",
              "                        <td id=\"T_9e78b0c4_a559_11eb_a672_0242ac1c0002row4_col11\" class=\"data row4 col11\" >-0.07</td>\n",
              "                        <td id=\"T_9e78b0c4_a559_11eb_a672_0242ac1c0002row4_col12\" class=\"data row4 col12\" >-0.09</td>\n",
              "            </tr>\n",
              "            <tr>\n",
              "                        <th id=\"T_9e78b0c4_a559_11eb_a672_0242ac1c0002level0_row5\" class=\"row_heading level0 row5\" >Games</th>\n",
              "                        <td id=\"T_9e78b0c4_a559_11eb_a672_0242ac1c0002row5_col0\" class=\"data row5 col0\" >0.24</td>\n",
              "                        <td id=\"T_9e78b0c4_a559_11eb_a672_0242ac1c0002row5_col1\" class=\"data row5 col1\" >0.18</td>\n",
              "                        <td id=\"T_9e78b0c4_a559_11eb_a672_0242ac1c0002row5_col2\" class=\"data row5 col2\" >0.19</td>\n",
              "                        <td id=\"T_9e78b0c4_a559_11eb_a672_0242ac1c0002row5_col3\" class=\"data row5 col3\" >0.14</td>\n",
              "                        <td id=\"T_9e78b0c4_a559_11eb_a672_0242ac1c0002row5_col4\" class=\"data row5 col4\" >-0.38</td>\n",
              "                        <td id=\"T_9e78b0c4_a559_11eb_a672_0242ac1c0002row5_col5\" class=\"data row5 col5\" >1.00</td>\n",
              "                        <td id=\"T_9e78b0c4_a559_11eb_a672_0242ac1c0002row5_col6\" class=\"data row5 col6\" >0.58</td>\n",
              "                        <td id=\"T_9e78b0c4_a559_11eb_a672_0242ac1c0002row5_col7\" class=\"data row5 col7\" >0.60</td>\n",
              "                        <td id=\"T_9e78b0c4_a559_11eb_a672_0242ac1c0002row5_col8\" class=\"data row5 col8\" >0.34</td>\n",
              "                        <td id=\"T_9e78b0c4_a559_11eb_a672_0242ac1c0002row5_col9\" class=\"data row5 col9\" >0.73</td>\n",
              "                        <td id=\"T_9e78b0c4_a559_11eb_a672_0242ac1c0002row5_col10\" class=\"data row5 col10\" >-0.62</td>\n",
              "                        <td id=\"T_9e78b0c4_a559_11eb_a672_0242ac1c0002row5_col11\" class=\"data row5 col11\" >0.22</td>\n",
              "                        <td id=\"T_9e78b0c4_a559_11eb_a672_0242ac1c0002row5_col12\" class=\"data row5 col12\" >0.15</td>\n",
              "            </tr>\n",
              "            <tr>\n",
              "                        <th id=\"T_9e78b0c4_a559_11eb_a672_0242ac1c0002level0_row6\" class=\"row_heading level0 row6\" >Yds</th>\n",
              "                        <td id=\"T_9e78b0c4_a559_11eb_a672_0242ac1c0002row6_col0\" class=\"data row6 col0\" >0.14</td>\n",
              "                        <td id=\"T_9e78b0c4_a559_11eb_a672_0242ac1c0002row6_col1\" class=\"data row6 col1\" >0.14</td>\n",
              "                        <td id=\"T_9e78b0c4_a559_11eb_a672_0242ac1c0002row6_col2\" class=\"data row6 col2\" >0.01</td>\n",
              "                        <td id=\"T_9e78b0c4_a559_11eb_a672_0242ac1c0002row6_col3\" class=\"data row6 col3\" >0.01</td>\n",
              "                        <td id=\"T_9e78b0c4_a559_11eb_a672_0242ac1c0002row6_col4\" class=\"data row6 col4\" >-0.94</td>\n",
              "                        <td id=\"T_9e78b0c4_a559_11eb_a672_0242ac1c0002row6_col5\" class=\"data row6 col5\" >0.58</td>\n",
              "                        <td id=\"T_9e78b0c4_a559_11eb_a672_0242ac1c0002row6_col6\" class=\"data row6 col6\" >1.00</td>\n",
              "                        <td id=\"T_9e78b0c4_a559_11eb_a672_0242ac1c0002row6_col7\" class=\"data row6 col7\" >0.91</td>\n",
              "                        <td id=\"T_9e78b0c4_a559_11eb_a672_0242ac1c0002row6_col8\" class=\"data row6 col8\" >0.96</td>\n",
              "                        <td id=\"T_9e78b0c4_a559_11eb_a672_0242ac1c0002row6_col9\" class=\"data row6 col9\" >0.66</td>\n",
              "                        <td id=\"T_9e78b0c4_a559_11eb_a672_0242ac1c0002row6_col10\" class=\"data row6 col10\" >-0.63</td>\n",
              "                        <td id=\"T_9e78b0c4_a559_11eb_a672_0242ac1c0002row6_col11\" class=\"data row6 col11\" >0.11</td>\n",
              "                        <td id=\"T_9e78b0c4_a559_11eb_a672_0242ac1c0002row6_col12\" class=\"data row6 col12\" >0.12</td>\n",
              "            </tr>\n",
              "            <tr>\n",
              "                        <th id=\"T_9e78b0c4_a559_11eb_a672_0242ac1c0002level0_row7\" class=\"row_heading level0 row7\" >TDs</th>\n",
              "                        <td id=\"T_9e78b0c4_a559_11eb_a672_0242ac1c0002row7_col0\" class=\"data row7 col0\" >0.21</td>\n",
              "                        <td id=\"T_9e78b0c4_a559_11eb_a672_0242ac1c0002row7_col1\" class=\"data row7 col1\" >0.18</td>\n",
              "                        <td id=\"T_9e78b0c4_a559_11eb_a672_0242ac1c0002row7_col2\" class=\"data row7 col2\" >0.04</td>\n",
              "                        <td id=\"T_9e78b0c4_a559_11eb_a672_0242ac1c0002row7_col3\" class=\"data row7 col3\" >0.01</td>\n",
              "                        <td id=\"T_9e78b0c4_a559_11eb_a672_0242ac1c0002row7_col4\" class=\"data row7 col4\" >-0.82</td>\n",
              "                        <td id=\"T_9e78b0c4_a559_11eb_a672_0242ac1c0002row7_col5\" class=\"data row7 col5\" >0.60</td>\n",
              "                        <td id=\"T_9e78b0c4_a559_11eb_a672_0242ac1c0002row7_col6\" class=\"data row7 col6\" >0.91</td>\n",
              "                        <td id=\"T_9e78b0c4_a559_11eb_a672_0242ac1c0002row7_col7\" class=\"data row7 col7\" >1.00</td>\n",
              "                        <td id=\"T_9e78b0c4_a559_11eb_a672_0242ac1c0002row7_col8\" class=\"data row7 col8\" >0.84</td>\n",
              "                        <td id=\"T_9e78b0c4_a559_11eb_a672_0242ac1c0002row7_col9\" class=\"data row7 col9\" >0.75</td>\n",
              "                        <td id=\"T_9e78b0c4_a559_11eb_a672_0242ac1c0002row7_col10\" class=\"data row7 col10\" >-0.73</td>\n",
              "                        <td id=\"T_9e78b0c4_a559_11eb_a672_0242ac1c0002row7_col11\" class=\"data row7 col11\" >0.17</td>\n",
              "                        <td id=\"T_9e78b0c4_a559_11eb_a672_0242ac1c0002row7_col12\" class=\"data row7 col12\" >0.15</td>\n",
              "            </tr>\n",
              "            <tr>\n",
              "                        <th id=\"T_9e78b0c4_a559_11eb_a672_0242ac1c0002level0_row8\" class=\"row_heading level0 row8\" >Ydspgm</th>\n",
              "                        <td id=\"T_9e78b0c4_a559_11eb_a672_0242ac1c0002row8_col0\" class=\"data row8 col0\" >0.07</td>\n",
              "                        <td id=\"T_9e78b0c4_a559_11eb_a672_0242ac1c0002row8_col1\" class=\"data row8 col1\" >0.11</td>\n",
              "                        <td id=\"T_9e78b0c4_a559_11eb_a672_0242ac1c0002row8_col2\" class=\"data row8 col2\" >-0.06</td>\n",
              "                        <td id=\"T_9e78b0c4_a559_11eb_a672_0242ac1c0002row8_col3\" class=\"data row8 col3\" >-0.04</td>\n",
              "                        <td id=\"T_9e78b0c4_a559_11eb_a672_0242ac1c0002row8_col4\" class=\"data row8 col4\" >-0.96</td>\n",
              "                        <td id=\"T_9e78b0c4_a559_11eb_a672_0242ac1c0002row8_col5\" class=\"data row8 col5\" >0.34</td>\n",
              "                        <td id=\"T_9e78b0c4_a559_11eb_a672_0242ac1c0002row8_col6\" class=\"data row8 col6\" >0.96</td>\n",
              "                        <td id=\"T_9e78b0c4_a559_11eb_a672_0242ac1c0002row8_col7\" class=\"data row8 col7\" >0.84</td>\n",
              "                        <td id=\"T_9e78b0c4_a559_11eb_a672_0242ac1c0002row8_col8\" class=\"data row8 col8\" >1.00</td>\n",
              "                        <td id=\"T_9e78b0c4_a559_11eb_a672_0242ac1c0002row8_col9\" class=\"data row8 col9\" >0.52</td>\n",
              "                        <td id=\"T_9e78b0c4_a559_11eb_a672_0242ac1c0002row8_col10\" class=\"data row8 col10\" >-0.53</td>\n",
              "                        <td id=\"T_9e78b0c4_a559_11eb_a672_0242ac1c0002row8_col11\" class=\"data row8 col11\" >0.05</td>\n",
              "                        <td id=\"T_9e78b0c4_a559_11eb_a672_0242ac1c0002row8_col12\" class=\"data row8 col12\" >0.09</td>\n",
              "            </tr>\n",
              "            <tr>\n",
              "                        <th id=\"T_9e78b0c4_a559_11eb_a672_0242ac1c0002level0_row9\" class=\"row_heading level0 row9\" >Wins</th>\n",
              "                        <td id=\"T_9e78b0c4_a559_11eb_a672_0242ac1c0002row9_col0\" class=\"data row9 col0\" >0.36</td>\n",
              "                        <td id=\"T_9e78b0c4_a559_11eb_a672_0242ac1c0002row9_col1\" class=\"data row9 col1\" >0.28</td>\n",
              "                        <td id=\"T_9e78b0c4_a559_11eb_a672_0242ac1c0002row9_col2\" class=\"data row9 col2\" >0.26</td>\n",
              "                        <td id=\"T_9e78b0c4_a559_11eb_a672_0242ac1c0002row9_col3\" class=\"data row9 col3\" >0.16</td>\n",
              "                        <td id=\"T_9e78b0c4_a559_11eb_a672_0242ac1c0002row9_col4\" class=\"data row9 col4\" >-0.53</td>\n",
              "                        <td id=\"T_9e78b0c4_a559_11eb_a672_0242ac1c0002row9_col5\" class=\"data row9 col5\" >0.73</td>\n",
              "                        <td id=\"T_9e78b0c4_a559_11eb_a672_0242ac1c0002row9_col6\" class=\"data row9 col6\" >0.66</td>\n",
              "                        <td id=\"T_9e78b0c4_a559_11eb_a672_0242ac1c0002row9_col7\" class=\"data row9 col7\" >0.75</td>\n",
              "                        <td id=\"T_9e78b0c4_a559_11eb_a672_0242ac1c0002row9_col8\" class=\"data row9 col8\" >0.52</td>\n",
              "                        <td id=\"T_9e78b0c4_a559_11eb_a672_0242ac1c0002row9_col9\" class=\"data row9 col9\" >1.00</td>\n",
              "                        <td id=\"T_9e78b0c4_a559_11eb_a672_0242ac1c0002row9_col10\" class=\"data row9 col10\" >-0.99</td>\n",
              "                        <td id=\"T_9e78b0c4_a559_11eb_a672_0242ac1c0002row9_col11\" class=\"data row9 col11\" >0.32</td>\n",
              "                        <td id=\"T_9e78b0c4_a559_11eb_a672_0242ac1c0002row9_col12\" class=\"data row9 col12\" >0.24</td>\n",
              "            </tr>\n",
              "            <tr>\n",
              "                        <th id=\"T_9e78b0c4_a559_11eb_a672_0242ac1c0002level0_row10\" class=\"row_heading level0 row10\" >Losses</th>\n",
              "                        <td id=\"T_9e78b0c4_a559_11eb_a672_0242ac1c0002row10_col0\" class=\"data row10 col0\" >-0.35</td>\n",
              "                        <td id=\"T_9e78b0c4_a559_11eb_a672_0242ac1c0002row10_col1\" class=\"data row10 col1\" >-0.27</td>\n",
              "                        <td id=\"T_9e78b0c4_a559_11eb_a672_0242ac1c0002row10_col2\" class=\"data row10 col2\" >-0.25</td>\n",
              "                        <td id=\"T_9e78b0c4_a559_11eb_a672_0242ac1c0002row10_col3\" class=\"data row10 col3\" >-0.16</td>\n",
              "                        <td id=\"T_9e78b0c4_a559_11eb_a672_0242ac1c0002row10_col4\" class=\"data row10 col4\" >0.53</td>\n",
              "                        <td id=\"T_9e78b0c4_a559_11eb_a672_0242ac1c0002row10_col5\" class=\"data row10 col5\" >-0.62</td>\n",
              "                        <td id=\"T_9e78b0c4_a559_11eb_a672_0242ac1c0002row10_col6\" class=\"data row10 col6\" >-0.63</td>\n",
              "                        <td id=\"T_9e78b0c4_a559_11eb_a672_0242ac1c0002row10_col7\" class=\"data row10 col7\" >-0.73</td>\n",
              "                        <td id=\"T_9e78b0c4_a559_11eb_a672_0242ac1c0002row10_col8\" class=\"data row10 col8\" >-0.53</td>\n",
              "                        <td id=\"T_9e78b0c4_a559_11eb_a672_0242ac1c0002row10_col9\" class=\"data row10 col9\" >-0.99</td>\n",
              "                        <td id=\"T_9e78b0c4_a559_11eb_a672_0242ac1c0002row10_col10\" class=\"data row10 col10\" >1.00</td>\n",
              "                        <td id=\"T_9e78b0c4_a559_11eb_a672_0242ac1c0002row10_col11\" class=\"data row10 col11\" >-0.32</td>\n",
              "                        <td id=\"T_9e78b0c4_a559_11eb_a672_0242ac1c0002row10_col12\" class=\"data row10 col12\" >-0.23</td>\n",
              "            </tr>\n",
              "            <tr>\n",
              "                        <th id=\"T_9e78b0c4_a559_11eb_a672_0242ac1c0002level0_row11\" class=\"row_heading level0 row11\" >SchoolPay_log</th>\n",
              "                        <td id=\"T_9e78b0c4_a559_11eb_a672_0242ac1c0002row11_col0\" class=\"data row11 col0\" >0.93</td>\n",
              "                        <td id=\"T_9e78b0c4_a559_11eb_a672_0242ac1c0002row11_col1\" class=\"data row11 col1\" >0.79</td>\n",
              "                        <td id=\"T_9e78b0c4_a559_11eb_a672_0242ac1c0002row11_col2\" class=\"data row11 col2\" >0.25</td>\n",
              "                        <td id=\"T_9e78b0c4_a559_11eb_a672_0242ac1c0002row11_col3\" class=\"data row11 col3\" >0.17</td>\n",
              "                        <td id=\"T_9e78b0c4_a559_11eb_a672_0242ac1c0002row11_col4\" class=\"data row11 col4\" >-0.07</td>\n",
              "                        <td id=\"T_9e78b0c4_a559_11eb_a672_0242ac1c0002row11_col5\" class=\"data row11 col5\" >0.22</td>\n",
              "                        <td id=\"T_9e78b0c4_a559_11eb_a672_0242ac1c0002row11_col6\" class=\"data row11 col6\" >0.11</td>\n",
              "                        <td id=\"T_9e78b0c4_a559_11eb_a672_0242ac1c0002row11_col7\" class=\"data row11 col7\" >0.17</td>\n",
              "                        <td id=\"T_9e78b0c4_a559_11eb_a672_0242ac1c0002row11_col8\" class=\"data row11 col8\" >0.05</td>\n",
              "                        <td id=\"T_9e78b0c4_a559_11eb_a672_0242ac1c0002row11_col9\" class=\"data row11 col9\" >0.32</td>\n",
              "                        <td id=\"T_9e78b0c4_a559_11eb_a672_0242ac1c0002row11_col10\" class=\"data row11 col10\" >-0.32</td>\n",
              "                        <td id=\"T_9e78b0c4_a559_11eb_a672_0242ac1c0002row11_col11\" class=\"data row11 col11\" >1.00</td>\n",
              "                        <td id=\"T_9e78b0c4_a559_11eb_a672_0242ac1c0002row11_col12\" class=\"data row11 col12\" >0.81</td>\n",
              "            </tr>\n",
              "            <tr>\n",
              "                        <th id=\"T_9e78b0c4_a559_11eb_a672_0242ac1c0002level0_row12\" class=\"row_heading level0 row12\" >Capacity_log</th>\n",
              "                        <td id=\"T_9e78b0c4_a559_11eb_a672_0242ac1c0002row12_col0\" class=\"data row12 col0\" >0.79</td>\n",
              "                        <td id=\"T_9e78b0c4_a559_11eb_a672_0242ac1c0002row12_col1\" class=\"data row12 col1\" >0.97</td>\n",
              "                        <td id=\"T_9e78b0c4_a559_11eb_a672_0242ac1c0002row12_col2\" class=\"data row12 col2\" >0.12</td>\n",
              "                        <td id=\"T_9e78b0c4_a559_11eb_a672_0242ac1c0002row12_col3\" class=\"data row12 col3\" >0.02</td>\n",
              "                        <td id=\"T_9e78b0c4_a559_11eb_a672_0242ac1c0002row12_col4\" class=\"data row12 col4\" >-0.09</td>\n",
              "                        <td id=\"T_9e78b0c4_a559_11eb_a672_0242ac1c0002row12_col5\" class=\"data row12 col5\" >0.15</td>\n",
              "                        <td id=\"T_9e78b0c4_a559_11eb_a672_0242ac1c0002row12_col6\" class=\"data row12 col6\" >0.12</td>\n",
              "                        <td id=\"T_9e78b0c4_a559_11eb_a672_0242ac1c0002row12_col7\" class=\"data row12 col7\" >0.15</td>\n",
              "                        <td id=\"T_9e78b0c4_a559_11eb_a672_0242ac1c0002row12_col8\" class=\"data row12 col8\" >0.09</td>\n",
              "                        <td id=\"T_9e78b0c4_a559_11eb_a672_0242ac1c0002row12_col9\" class=\"data row12 col9\" >0.24</td>\n",
              "                        <td id=\"T_9e78b0c4_a559_11eb_a672_0242ac1c0002row12_col10\" class=\"data row12 col10\" >-0.23</td>\n",
              "                        <td id=\"T_9e78b0c4_a559_11eb_a672_0242ac1c0002row12_col11\" class=\"data row12 col11\" >0.81</td>\n",
              "                        <td id=\"T_9e78b0c4_a559_11eb_a672_0242ac1c0002row12_col12\" class=\"data row12 col12\" >1.00</td>\n",
              "            </tr>\n",
              "    </tbody></table>"
            ],
            "text/plain": [
              "<pandas.io.formats.style.Styler at 0x7ff4316eca10>"
            ]
          },
          "metadata": {
            "tags": []
          },
          "execution_count": 255
        }
      ]
    },
    {
      "cell_type": "markdown",
      "metadata": {
        "id": "XweqrqkkVYdn"
      },
      "source": [
        "The correlation matrix offers us deep insight into how our predictors might be chosen. Firstly, capacity has by far the highest correlation with School Pay. This will most likely be an important predictor. However, this plot does not include categorical variables, we showed above with visualization how conference and power status will also play a huge role. Wins and Losses are also correlated with School Pay, although it is only .35, this may also serve as a predictor. What is important to note here is that predictors such as Yds, TDs, Wins and Losses are all extremely correlated with each other. In all likelihood only one of these predictors will be used. \n"
      ]
    },
    {
      "cell_type": "code",
      "metadata": {
        "colab": {
          "base_uri": "https://localhost:8080/"
        },
        "id": "Uewj8eswEB_w",
        "outputId": "7850b626-91af-42a3-d5db-749e8c0cf85d"
      },
      "source": [
        "#view conditional mean of pay by conference \n",
        "finalMerge.groupby('Conference_x')['SchoolPay'].mean()"
      ],
      "execution_count": null,
      "outputs": [
        {
          "output_type": "execute_result",
          "data": {
            "text/plain": [
              "Conference_x\n",
              "AAC        1656267.70\n",
              "ACC        3409628.86\n",
              "Big 12     4016755.67\n",
              "Big Ten    4304013.71\n",
              "C-USA       839518.54\n",
              "Ind.        985816.00\n",
              "MAC         579836.17\n",
              "Mt. West   1000642.00\n",
              "Pac-12     2752225.62\n",
              "SEC        4565941.53\n",
              "Sun Belt    650650.00\n",
              "Name: SchoolPay, dtype: float64"
            ]
          },
          "metadata": {
            "tags": []
          },
          "execution_count": 256
        }
      ]
    },
    {
      "cell_type": "code",
      "metadata": {
        "colab": {
          "base_uri": "https://localhost:8080/"
        },
        "id": "y3Jc1leuTlJX",
        "outputId": "753831c2-cb0d-4706-b488-b45ca8a4491f"
      },
      "source": [
        "#view conditional mean of pay by Power status \n",
        "finalMerge.groupby('Power')['SchoolPay'].mean()"
      ],
      "execution_count": null,
      "outputs": [
        {
          "output_type": "execute_result",
          "data": {
            "text/plain": [
              "Power\n",
              "Power5     3821690.05\n",
              "notPower    933511.87\n",
              "Name: SchoolPay, dtype: float64"
            ]
          },
          "metadata": {
            "tags": []
          },
          "execution_count": 257
        }
      ]
    },
    {
      "cell_type": "markdown",
      "metadata": {
        "id": "J1PR5f3tMT9g"
      },
      "source": [
        "# Modeling"
      ]
    },
    {
      "cell_type": "markdown",
      "metadata": {
        "id": "zmHsdk0E8Yw0"
      },
      "source": [
        "In this section models are built to try and understand what determines a coaches pay and make predictions. To begin, the data is split into a train and test set. Specifically, the data is split 50/50. Although this may be an extreme split, it will provide for interesting analysis because we will not be overfitting when we calculate RMSE. RMSE, along with adj-Rsquared will be the main ways we evaluate the modeling. Four models are built with differing levels of complexity."
      ]
    },
    {
      "cell_type": "code",
      "metadata": {
        "colab": {
          "base_uri": "https://localhost:8080/"
        },
        "id": "s52Tf9wSBR_I",
        "outputId": "fa56a240-a374-4115-a121-701c102c6e93"
      },
      "source": [
        "#split into train and test sets\n",
        "#view the distribution of conference in train and test sets\n",
        "train, test = train_test_split(finalMerge, test_size=0.5, random_state=42)\n",
        "print('Train set \\n', train['Conference_x'].value_counts())\n",
        "print('\\n')\n",
        "print('Test set \\n', test['Conference_x'].value_counts())"
      ],
      "execution_count": null,
      "outputs": [
        {
          "output_type": "stream",
          "text": [
            "Train set \n",
            " ACC         10\n",
            "C-USA        8\n",
            "Pac-12       7\n",
            "Big Ten      7\n",
            "Mt. West     6\n",
            "SEC          6\n",
            "MAC          5\n",
            "AAC          4\n",
            "Big 12       4\n",
            "Sun Belt     3\n",
            "Ind.         3\n",
            "Name: Conference_x, dtype: int64\n",
            "\n",
            "\n",
            "Test set \n",
            " SEC         9\n",
            "Sun Belt    7\n",
            "Big Ten     7\n",
            "MAC         7\n",
            "Mt. West    6\n",
            "Pac-12      6\n",
            "AAC         6\n",
            "C-USA       5\n",
            "Big 12      5\n",
            "ACC         4\n",
            "Ind.        2\n",
            "Name: Conference_x, dtype: int64\n"
          ],
          "name": "stdout"
        }
      ]
    },
    {
      "cell_type": "code",
      "metadata": {
        "id": "q0SXvO2Yj4J0"
      },
      "source": [
        "#copy syracuse to make predictions\n",
        "syr_original = finalMerge[finalMerge['School'] == 'syracuse']\n",
        "syr_B10 = syr_original.replace('ACC', 'Big Ten')"
      ],
      "execution_count": null,
      "outputs": []
    },
    {
      "cell_type": "code",
      "metadata": {
        "id": "A21aB797vjQ4"
      },
      "source": [
        "#define model structure\n",
        "model_1_formula = \"SchoolPay ~ Capacity + Wins + Power + Conference_x + GSR + Opened\"\n",
        "model_2_formula = \"SchoolPay_log ~ Capacity + Wins + Power\"\n",
        "model_3_formula = \"SchoolPay_log ~ Capacity + Wins + Power + Conference_x\"\n",
        "model_4_formula = \"SchoolPay_log ~ Capacity + Wins + Power\" #group = Conference_x"
      ],
      "execution_count": null,
      "outputs": []
    },
    {
      "cell_type": "code",
      "metadata": {
        "colab": {
          "base_uri": "https://localhost:8080/"
        },
        "id": "dfB1s7Tyv29_",
        "outputId": "55aec81d-789c-48dc-cd83-a4717d991e98"
      },
      "source": [
        "#fit model 1\n",
        "model_1 = sm.ols(formula= model_1_formula, data=train).fit()\n",
        "print(model_1.summary())"
      ],
      "execution_count": null,
      "outputs": [
        {
          "output_type": "stream",
          "text": [
            "                            OLS Regression Results                            \n",
            "==============================================================================\n",
            "Dep. Variable:              SchoolPay   R-squared:                       0.847\n",
            "Model:                            OLS   Adj. R-squared:                  0.789\n",
            "Method:                 Least Squares   F-statistic:                     14.61\n",
            "Date:                Sun, 25 Apr 2021   Prob (F-statistic):           5.16e-13\n",
            "Time:                        00:03:23   Log-Likelihood:                -940.31\n",
            "No. Observations:                  63   AIC:                             1917.\n",
            "Df Residuals:                      45   BIC:                             1955.\n",
            "Df Model:                          17                                         \n",
            "Covariance Type:            nonrobust                                         \n",
            "============================================================================================\n",
            "                               coef    std err          t      P>|t|      [0.025      0.975]\n",
            "--------------------------------------------------------------------------------------------\n",
            "Intercept                -2.103e+05   8.66e+05     -0.243      0.809   -1.96e+06    1.53e+06\n",
            "Power[T.notPower]        -9.708e+05   4.34e+05     -2.235      0.030   -1.85e+06   -9.61e+04\n",
            "Conference_x[T.ACC]       1.373e+05   3.65e+05      0.376      0.709   -5.98e+05    8.73e+05\n",
            "Conference_x[T.Big 12]    1.144e+05   4.12e+05      0.277      0.783   -7.16e+05    9.45e+05\n",
            "Conference_x[T.Big Ten]   3.874e+05   3.81e+05      1.018      0.314   -3.79e+05    1.15e+06\n",
            "Conference_x[T.C-USA]    -4.522e+05   5.43e+05     -0.832      0.410   -1.55e+06    6.42e+05\n",
            "Conference_x[T.Ind.]      4.322e+05    7.4e+05      0.584      0.562   -1.06e+06    1.92e+06\n",
            "Conference_x[T.MAC]      -4.848e+05   6.21e+05     -0.780      0.439   -1.74e+06    7.67e+05\n",
            "Conference_x[T.Mt. West] -4.198e+05   5.88e+05     -0.714      0.479    -1.6e+06    7.64e+05\n",
            "Conference_x[T.Pac-12]   -5.227e+05   3.27e+05     -1.598      0.117   -1.18e+06    1.36e+05\n",
            "Conference_x[T.SEC]        6.44e+05   3.98e+05      1.617      0.113   -1.58e+05    1.45e+06\n",
            "Conference_x[T.Sun Belt] -7.047e+05   7.37e+05     -0.956      0.344   -2.19e+06    7.79e+05\n",
            "Opened[T.1930-1950]       1.016e+05    4.3e+05      0.236      0.814   -7.64e+05    9.67e+05\n",
            "Opened[T.1950-1970]      -3.932e+05   3.68e+05     -1.069      0.291   -1.13e+06    3.48e+05\n",
            "Opened[T.1970-1990]      -1.488e+04   4.37e+05     -0.034      0.973   -8.95e+05    8.66e+05\n",
            "Opened[T.1990-2017]       6.497e+04    4.8e+05      0.135      0.893   -9.02e+05    1.03e+06\n",
            "Capacity                    34.2908      7.137      4.805      0.000      19.916      48.665\n",
            "Wins                      1.636e+05   4.23e+04      3.869      0.000    7.84e+04    2.49e+05\n",
            "GSR                       5955.7145    1.2e+04      0.496      0.622   -1.82e+04    3.01e+04\n",
            "==============================================================================\n",
            "Omnibus:                        8.508   Durbin-Watson:                   1.470\n",
            "Prob(Omnibus):                  0.014   Jarque-Bera (JB):                7.896\n",
            "Skew:                           0.810   Prob(JB):                       0.0193\n",
            "Kurtosis:                       3.622   Cond. No.                     4.12e+17\n",
            "==============================================================================\n",
            "\n",
            "Warnings:\n",
            "[1] Standard Errors assume that the covariance matrix of the errors is correctly specified.\n",
            "[2] The smallest eigenvalue is 1.18e-24. This might indicate that there are\n",
            "strong multicollinearity problems or that the design matrix is singular.\n"
          ],
          "name": "stdout"
        }
      ]
    },
    {
      "cell_type": "code",
      "metadata": {
        "colab": {
          "base_uri": "https://localhost:8080/"
        },
        "id": "n46kjBJtO9hp",
        "outputId": "ec7634e5-5a4d-4ead-ee3c-8c2e68370e24"
      },
      "source": [
        "#predict model 1\n",
        "predictions = model_1.predict(test)\n",
        "model_1_RMSE = sqrt(mean_squared_error(test['SchoolPay'], (predictions)))\n",
        "print('RMSE of Model 1:',model_1_RMSE)"
      ],
      "execution_count": null,
      "outputs": [
        {
          "output_type": "stream",
          "text": [
            "RMSE of Model 1: 1009367.6137965949\n"
          ],
          "name": "stdout"
        }
      ]
    },
    {
      "cell_type": "code",
      "metadata": {
        "colab": {
          "base_uri": "https://localhost:8080/"
        },
        "id": "NtSnq104ATt3",
        "outputId": "e5b7ed5e-84d4-44e0-f580-5fac3cf2d86b"
      },
      "source": [
        "#fit model 2\n",
        "model_2 = sm.ols(formula=model_2_formula, data=train).fit()\n",
        "print(model_2.summary())"
      ],
      "execution_count": null,
      "outputs": [
        {
          "output_type": "stream",
          "text": [
            "                            OLS Regression Results                            \n",
            "==============================================================================\n",
            "Dep. Variable:          SchoolPay_log   R-squared:                       0.848\n",
            "Model:                            OLS   Adj. R-squared:                  0.840\n",
            "Method:                 Least Squares   F-statistic:                     109.3\n",
            "Date:                Sun, 25 Apr 2021   Prob (F-statistic):           4.61e-24\n",
            "Time:                        00:03:37   Log-Likelihood:                -18.474\n",
            "No. Observations:                  63   AIC:                             44.95\n",
            "Df Residuals:                      59   BIC:                             53.52\n",
            "Df Model:                           3                                         \n",
            "Covariance Type:            nonrobust                                         \n",
            "=====================================================================================\n",
            "                        coef    std err          t      P>|t|      [0.025      0.975]\n",
            "-------------------------------------------------------------------------------------\n",
            "Intercept            13.8839      0.176     78.874      0.000      13.532      14.236\n",
            "Power[T.notPower]    -0.9811      0.111     -8.858      0.000      -1.203      -0.759\n",
            "Capacity           1.205e-05   2.33e-06      5.175      0.000    7.39e-06    1.67e-05\n",
            "Wins                  0.0497      0.014      3.630      0.001       0.022       0.077\n",
            "==============================================================================\n",
            "Omnibus:                        3.742   Durbin-Watson:                   2.105\n",
            "Prob(Omnibus):                  0.154   Jarque-Bera (JB):                2.812\n",
            "Skew:                           0.445   Prob(JB):                        0.245\n",
            "Kurtosis:                       3.527   Cond. No.                     2.63e+05\n",
            "==============================================================================\n",
            "\n",
            "Warnings:\n",
            "[1] Standard Errors assume that the covariance matrix of the errors is correctly specified.\n",
            "[2] The condition number is large, 2.63e+05. This might indicate that there are\n",
            "strong multicollinearity or other numerical problems.\n"
          ],
          "name": "stdout"
        }
      ]
    },
    {
      "cell_type": "code",
      "metadata": {
        "colab": {
          "base_uri": "https://localhost:8080/"
        },
        "id": "zXW2InPr4pGM",
        "outputId": "a2786c93-d9a6-4811-9d9c-0431766e2798"
      },
      "source": [
        "#predict model 2\n",
        "predictions = model_2.predict(test)\n",
        "model_2_RMSE = sqrt(mean_squared_error(test['SchoolPay'], np.exp(predictions)))\n",
        "print('RMSE of Model 2:',model_2_RMSE)"
      ],
      "execution_count": null,
      "outputs": [
        {
          "output_type": "stream",
          "text": [
            "RMSE of Model 2: 960429.223838066\n"
          ],
          "name": "stdout"
        }
      ]
    },
    {
      "cell_type": "code",
      "metadata": {
        "colab": {
          "base_uri": "https://localhost:8080/"
        },
        "id": "waUGxaSTwVld",
        "outputId": "014beab0-4e2d-49c1-c1f2-6a07cdf00317"
      },
      "source": [
        "#fit model 3\n",
        "model_3 = sm.ols(formula= model_3_formula, data=train).fit()\n",
        "print(model_3.summary())"
      ],
      "execution_count": null,
      "outputs": [
        {
          "output_type": "stream",
          "text": [
            "                            OLS Regression Results                            \n",
            "==============================================================================\n",
            "Dep. Variable:          SchoolPay_log   R-squared:                       0.896\n",
            "Model:                            OLS   Adj. R-squared:                  0.872\n",
            "Method:                 Least Squares   F-statistic:                     36.07\n",
            "Date:                Sun, 25 Apr 2021   Prob (F-statistic):           2.01e-20\n",
            "Time:                        00:03:42   Log-Likelihood:                -6.2810\n",
            "No. Observations:                  63   AIC:                             38.56\n",
            "Df Residuals:                      50   BIC:                             66.42\n",
            "Df Model:                          12                                         \n",
            "Covariance Type:            nonrobust                                         \n",
            "============================================================================================\n",
            "                               coef    std err          t      P>|t|      [0.025      0.975]\n",
            "--------------------------------------------------------------------------------------------\n",
            "Intercept                   11.9830      0.144     83.111      0.000      11.693      12.273\n",
            "Power[T.notPower]            1.5724      0.137     11.504      0.000       1.298       1.847\n",
            "Conference_x[T.ACC]          2.1208      0.092     22.978      0.000       1.935       2.306\n",
            "Conference_x[T.Big 12]       2.1089      0.138     15.333      0.000       1.833       2.385\n",
            "Conference_x[T.Big Ten]      2.1305      0.113     18.915      0.000       1.904       2.357\n",
            "Conference_x[T.C-USA]       -0.5911      0.185     -3.188      0.002      -0.963      -0.219\n",
            "Conference_x[T.Ind.]        -0.5963      0.241     -2.473      0.017      -1.081      -0.112\n",
            "Conference_x[T.MAC]         -0.8513      0.205     -4.148      0.000      -1.263      -0.439\n",
            "Conference_x[T.Mt. West]    -0.5428      0.195     -2.784      0.008      -0.934      -0.151\n",
            "Conference_x[T.Pac-12]       1.8522      0.108     17.130      0.000       1.635       2.069\n",
            "Conference_x[T.SEC]          2.1982      0.129     16.976      0.000       1.938       2.458\n",
            "Conference_x[T.Sun Belt]    -0.7752      0.232     -3.346      0.002      -1.241      -0.310\n",
            "Capacity                  9.051e-06   2.32e-06      3.897      0.000    4.39e-06    1.37e-05\n",
            "Wins                         0.0520      0.013      3.966      0.000       0.026       0.078\n",
            "==============================================================================\n",
            "Omnibus:                        4.225   Durbin-Watson:                   2.084\n",
            "Prob(Omnibus):                  0.121   Jarque-Bera (JB):                3.287\n",
            "Skew:                           0.503   Prob(JB):                        0.193\n",
            "Kurtosis:                       3.491   Cond. No.                     7.60e+17\n",
            "==============================================================================\n",
            "\n",
            "Warnings:\n",
            "[1] Standard Errors assume that the covariance matrix of the errors is correctly specified.\n",
            "[2] The smallest eigenvalue is 3.47e-25. This might indicate that there are\n",
            "strong multicollinearity problems or that the design matrix is singular.\n"
          ],
          "name": "stdout"
        }
      ]
    },
    {
      "cell_type": "code",
      "metadata": {
        "colab": {
          "base_uri": "https://localhost:8080/"
        },
        "id": "5lAUGHWj7mWi",
        "outputId": "a6bba68a-2a6c-45fd-dfe7-b9f1f4d39687"
      },
      "source": [
        "#predict model 3\n",
        "predictions = model_3.predict(test)\n",
        "model_3_RMSE = sqrt(mean_squared_error(test['SchoolPay'], np.exp(predictions)))\n",
        "print('RMSE of Model 3:',model_3_RMSE)"
      ],
      "execution_count": null,
      "outputs": [
        {
          "output_type": "stream",
          "text": [
            "RMSE of Model 3: 937172.1868298692\n"
          ],
          "name": "stdout"
        }
      ]
    },
    {
      "cell_type": "code",
      "metadata": {
        "colab": {
          "base_uri": "https://localhost:8080/"
        },
        "id": "aH-wy8-xS8QH",
        "outputId": "3806fb4a-a71d-4f16-8fec-ba819f188adb"
      },
      "source": [
        "#fit model 4\n",
        "model_4 = sm.mixedlm(model_4_formula, data = train, groups=train[\"Conference_x\"]).fit()\n",
        "print(model_4.summary())"
      ],
      "execution_count": null,
      "outputs": [
        {
          "output_type": "stream",
          "text": [
            "           Mixed Linear Model Regression Results\n",
            "============================================================\n",
            "Model:             MixedLM Dependent Variable: SchoolPay_log\n",
            "No. Observations:  63      Method:             REML         \n",
            "No. Groups:        11      Scale:              0.0915       \n",
            "Min. group size:   3       Likelihood:         -36.1735     \n",
            "Max. group size:   10      Converged:          Yes          \n",
            "Mean group size:   5.7                                      \n",
            "------------------------------------------------------------\n",
            "                  Coef.  Std.Err.   z    P>|z| [0.025 0.975]\n",
            "------------------------------------------------------------\n",
            "Intercept         13.982    0.191 73.049 0.000 13.607 14.357\n",
            "Power[T.notPower] -1.026    0.151 -6.773 0.000 -1.323 -0.729\n",
            "Capacity           0.000    0.000  4.409 0.000  0.000  0.000\n",
            "Wins               0.051    0.013  3.998 0.000  0.026  0.076\n",
            "Group Var          0.030    0.091                           \n",
            "============================================================\n",
            "\n"
          ],
          "name": "stdout"
        }
      ]
    },
    {
      "cell_type": "code",
      "metadata": {
        "colab": {
          "base_uri": "https://localhost:8080/"
        },
        "id": "o9cTJOiod4MP",
        "outputId": "26ddb126-1716-47d5-deeb-d6bed6611390"
      },
      "source": [
        "# predict model 4\n",
        "predictions_2 = model_4.predict(test)\n",
        "model_4_RMSE = sqrt(mean_squared_error(test['SchoolPay'], np.exp(predictions_2)))\n",
        "print('RMSE of Model 4:',model_4_RMSE)"
      ],
      "execution_count": null,
      "outputs": [
        {
          "output_type": "stream",
          "text": [
            "RMSE of Model 4: 966484.338696496\n"
          ],
          "name": "stdout"
        }
      ]
    },
    {
      "cell_type": "code",
      "metadata": {
        "id": "nDSp218PEB03"
      },
      "source": [
        "#make predictions for syracuse\n",
        "pd.options.display.float_format = '{:.2f}'.format\n",
        "\n",
        "syrPrediction_1 = (model_1.predict(syr_original)).values[0]\n",
        "syrPrediction_2 = np.exp(model_2.predict(syr_original)).values[0]\n",
        "syrPrediction_3 = np.exp(model_3.predict(syr_original)).values[0]\n",
        "syrPrediction_4 = np.exp(model_4.predict(syr_original)).values[0]\n",
        "\n",
        "syrPrediction_B10_3 = np.exp(model_3.predict(syr_B10)).values[0]"
      ],
      "execution_count": null,
      "outputs": []
    },
    {
      "cell_type": "code",
      "metadata": {
        "colab": {
          "base_uri": "https://localhost:8080/",
          "height": 173
        },
        "id": "avNW8IPqdNRr",
        "outputId": "fa5c8f7d-d8f1-4f50-8348-1a9725cf808b"
      },
      "source": [
        "#create analysis table\n",
        "d = {'Models': [model_1_formula, model_2_formula, model_3_formula, model_4_formula + ' ||' +' (Conference as group)']\n",
        "     ,'rsquared': [model_1.rsquared, model_2.rsquared, model_3.rsquared, 'none']\n",
        "     ,'adj-rsquared': [model_1.rsquared_adj, model_2.rsquared_adj, model_3.rsquared_adj, 'none']\n",
        "     ,'syrPrediction': [syrPrediction_1, syrPrediction_2, syrPrediction_3, syrPrediction_4]\n",
        "     ,'RMSE': [model_1_RMSE, model_2_RMSE, model_3_RMSE, model_4_RMSE]\n",
        "     }\n",
        "models = pd.DataFrame(d)\n",
        "models"
      ],
      "execution_count": null,
      "outputs": [
        {
          "output_type": "execute_result",
          "data": {
            "text/html": [
              "<div>\n",
              "<style scoped>\n",
              "    .dataframe tbody tr th:only-of-type {\n",
              "        vertical-align: middle;\n",
              "    }\n",
              "\n",
              "    .dataframe tbody tr th {\n",
              "        vertical-align: top;\n",
              "    }\n",
              "\n",
              "    .dataframe thead th {\n",
              "        text-align: right;\n",
              "    }\n",
              "</style>\n",
              "<table border=\"1\" class=\"dataframe\">\n",
              "  <thead>\n",
              "    <tr style=\"text-align: right;\">\n",
              "      <th></th>\n",
              "      <th>Models</th>\n",
              "      <th>rsquared</th>\n",
              "      <th>adj-rsquared</th>\n",
              "      <th>syrPrediction</th>\n",
              "      <th>RMSE</th>\n",
              "    </tr>\n",
              "  </thead>\n",
              "  <tbody>\n",
              "    <tr>\n",
              "      <th>0</th>\n",
              "      <td>SchoolPay ~ Capacity + Wins + Power + Conference_x + GSR + Opened</td>\n",
              "      <td>0.85</td>\n",
              "      <td>0.79</td>\n",
              "      <td>3361488.69</td>\n",
              "      <td>1009367.61</td>\n",
              "    </tr>\n",
              "    <tr>\n",
              "      <th>1</th>\n",
              "      <td>SchoolPay_log ~ Capacity + Wins + Power</td>\n",
              "      <td>0.85</td>\n",
              "      <td>0.84</td>\n",
              "      <td>2877554.56</td>\n",
              "      <td>960429.22</td>\n",
              "    </tr>\n",
              "    <tr>\n",
              "      <th>2</th>\n",
              "      <td>SchoolPay_log ~ Capacity + Wins + Power + Conference_x</td>\n",
              "      <td>0.90</td>\n",
              "      <td>0.87</td>\n",
              "      <td>3153255.30</td>\n",
              "      <td>937172.19</td>\n",
              "    </tr>\n",
              "    <tr>\n",
              "      <th>3</th>\n",
              "      <td>SchoolPay_log ~ Capacity + Wins + Power || (Conference as group)</td>\n",
              "      <td>none</td>\n",
              "      <td>none</td>\n",
              "      <td>2960051.56</td>\n",
              "      <td>966484.34</td>\n",
              "    </tr>\n",
              "  </tbody>\n",
              "</table>\n",
              "</div>"
            ],
            "text/plain": [
              "                                                              Models  ...       RMSE\n",
              "0  SchoolPay ~ Capacity + Wins + Power + Conference_x + GSR + Opened  ... 1009367.61\n",
              "1                            SchoolPay_log ~ Capacity + Wins + Power  ...  960429.22\n",
              "2             SchoolPay_log ~ Capacity + Wins + Power + Conference_x  ...  937172.19\n",
              "3   SchoolPay_log ~ Capacity + Wins + Power || (Conference as group)  ...  966484.34\n",
              "\n",
              "[4 rows x 5 columns]"
            ]
          },
          "metadata": {
            "tags": []
          },
          "execution_count": 270
        }
      ]
    },
    {
      "cell_type": "code",
      "metadata": {
        "colab": {
          "base_uri": "https://localhost:8080/"
        },
        "id": "N4bqxzVsEB4H",
        "outputId": "1d5dec8d-3670-435f-8b98-a2586ba657aa"
      },
      "source": [
        "print('Syracuse prediction Big 10', (syrPrediction_B10_3))"
      ],
      "execution_count": null,
      "outputs": [
        {
          "output_type": "stream",
          "text": [
            "Syracuse prediction Big 10 3184205.1554332837\n"
          ],
          "name": "stdout"
        }
      ]
    },
    {
      "cell_type": "markdown",
      "metadata": {
        "id": "EXRXiKeprTMB"
      },
      "source": [
        "# Analysis and Reccomendations"
      ]
    },
    {
      "cell_type": "code",
      "metadata": {
        "colab": {
          "base_uri": "https://localhost:8080/",
          "height": 173
        },
        "id": "tdtk3jRDCKmk",
        "outputId": "d9dbc13a-b496-4972-b3f9-476dff56103a"
      },
      "source": [
        "models"
      ],
      "execution_count": null,
      "outputs": [
        {
          "output_type": "execute_result",
          "data": {
            "text/html": [
              "<div>\n",
              "<style scoped>\n",
              "    .dataframe tbody tr th:only-of-type {\n",
              "        vertical-align: middle;\n",
              "    }\n",
              "\n",
              "    .dataframe tbody tr th {\n",
              "        vertical-align: top;\n",
              "    }\n",
              "\n",
              "    .dataframe thead th {\n",
              "        text-align: right;\n",
              "    }\n",
              "</style>\n",
              "<table border=\"1\" class=\"dataframe\">\n",
              "  <thead>\n",
              "    <tr style=\"text-align: right;\">\n",
              "      <th></th>\n",
              "      <th>Models</th>\n",
              "      <th>rsquared</th>\n",
              "      <th>adj-rsquared</th>\n",
              "      <th>syrPrediction</th>\n",
              "      <th>RMSE</th>\n",
              "    </tr>\n",
              "  </thead>\n",
              "  <tbody>\n",
              "    <tr>\n",
              "      <th>0</th>\n",
              "      <td>SchoolPay ~ Capacity + Wins + Power + Conference_x + GSR + Opened</td>\n",
              "      <td>0.85</td>\n",
              "      <td>0.79</td>\n",
              "      <td>3361488.69</td>\n",
              "      <td>1009367.61</td>\n",
              "    </tr>\n",
              "    <tr>\n",
              "      <th>1</th>\n",
              "      <td>SchoolPay_log ~ Capacity + Wins + Power</td>\n",
              "      <td>0.85</td>\n",
              "      <td>0.84</td>\n",
              "      <td>2877554.56</td>\n",
              "      <td>960429.22</td>\n",
              "    </tr>\n",
              "    <tr>\n",
              "      <th>2</th>\n",
              "      <td>SchoolPay_log ~ Capacity + Wins + Power + Conference_x</td>\n",
              "      <td>0.90</td>\n",
              "      <td>0.87</td>\n",
              "      <td>3153255.30</td>\n",
              "      <td>937172.19</td>\n",
              "    </tr>\n",
              "    <tr>\n",
              "      <th>3</th>\n",
              "      <td>SchoolPay_log ~ Capacity + Wins + Power || (Conference as group)</td>\n",
              "      <td>none</td>\n",
              "      <td>none</td>\n",
              "      <td>2960051.56</td>\n",
              "      <td>966484.34</td>\n",
              "    </tr>\n",
              "  </tbody>\n",
              "</table>\n",
              "</div>"
            ],
            "text/plain": [
              "                                                              Models  ...       RMSE\n",
              "0  SchoolPay ~ Capacity + Wins + Power + Conference_x + GSR + Opened  ... 1009367.61\n",
              "1                            SchoolPay_log ~ Capacity + Wins + Power  ...  960429.22\n",
              "2             SchoolPay_log ~ Capacity + Wins + Power + Conference_x  ...  937172.19\n",
              "3   SchoolPay_log ~ Capacity + Wins + Power || (Conference as group)  ...  966484.34\n",
              "\n",
              "[4 rows x 5 columns]"
            ]
          },
          "metadata": {
            "tags": []
          },
          "execution_count": 272
        }
      ]
    },
    {
      "cell_type": "markdown",
      "metadata": {
        "id": "aoCx4XLlBsT4"
      },
      "source": [
        "\n",
        "Of the four models created the best one is model 3, SchoolPay_log ~ Capacity + Wins + Power + Conference_x. However, the last three models are very similar. Since the training and testing data is split 50/50 we can see how well the models generalize with the RMSE. The RMSE for the 3rd model is the lowest in being, 937,172. However, this is only slightly better than models 2 and 4 with RMSE of 960,429 and 966,484 respectively. Furthermore, the 3rd model also has the highest adjusted R squared of .87. This means that the model is able to explain 87% of the variation in school pay.\n",
        "\n",
        "There are some interesting things that need to be pointed out. Model 1 underperforms in terms of RMSE and Rsquared. The main difference is that model 1 does not use logPay as the dependent variable. The model works much better with log as the dependent variable. Furthermore, the RMSE is calculated after conversion out of log pay. \n",
        "\n",
        "Going into the modeling phase I assumed that model 4, the mixed effects model, would be the best. However, the result of the modeling actually shows that just including Power status and Conference in the model is superior to using a mixed effects model and grouping by conference. \n",
        "\n",
        "Finally, a prediction is made for Syracuse with all four models. The closest model is model 2. However, for the analysis I will use model 3 since it had the highest adjusted R squared and lowest RMSE.\n",
        "\n",
        "1.   What is the recommended salary for the Syracuse football coach?\n",
        "\n",
        "$3,153,255\n",
        "\n",
        "This salary prediction is well above the true value of $2,401,206. However, if we take a closer look, the average salary in ACC, the relevant conference is \n",
        "3,409,628. This highlights why our prediction may be overestimating the Syracuse pay. However, it also does imply that the Syracuse coach is somewhat underpaid given the mean income of coaches in the same conference and our prediction. \n",
        "\n",
        "2.   What would his salary be if we were still in the Big East? What if we went to the Big Ten?\n",
        "\n",
        "$3,184,205\n",
        "\n",
        "The Big East was disbanded many years ago. Therefore, there is no prediction for Syracuse being in the Big East. However, we can predict what the pay would be if Syracuse were in the Big Ten. The average coaches salary in the Big Ten is much higher than that of our current conference, the ACC. The mean salary in the Big Ten is roughly 4.3 million dollars. The prediction does increase from being in the ACC but not that much. \n",
        "\n",
        "3.   What schools did we drop from our data, and why?\n",
        "\n",
        "I dropped, Baylor, BYU, Rice, and SMU. All of these schools had missing data for coaches pay. With other missing values we have the option of interpolation with a conditional mean. However, if the actual dependent variable is missing it makes more sense to simply drop those rows. \n",
        "\n",
        "\n",
        "4.   What effect does graduation rate have on the projected salary?\n",
        "\n",
        "There are a few ways of showing how graduation rate has no impact on salary. Visually we can see that there is no trend when looking at a scatter plot of graduation rate and salary. More formally, our first regression model includes GSR as a predictor. The confidence interval for the coefficient on GSR crosses zero. This means that the value is statistically not different to zero, meaning that it has no effect on school pay. \n",
        "\n",
        "5.   How good is our model?\n",
        "\n",
        "Model 3 was the best performing model, even though it did not have the closest estimation for Syracuse. We can evaluate the model in 3 ways, but 2 of these methods are more important than the other. We have Rsqured, adjusted Rsquared, and RMSE. The problem with R-squared is that it can only increase, even when adding bad predictors. It does not penalize for having too many or non relevant predictors in the model. Therefore, adjusted R squared is more meaningful because it accounts for those things. RMSE calculates the error based on the residuals, the difference between predicted and true values. For model 3, the adjusted R squared is .87. This means that 87% of the variation in pay can be explained by Capacity, Wins, Power, and Conference. This is a fantastic adjusted R squared for a problem like this. Finally the RMSE is 937,172. The RMSE is calculated with training and testing data. \n",
        "\n",
        "6.   What has the single biggest impact on salary size?\n",
        "\n",
        "At first, I predicted the biggest impact would come from capacity. However, the biggest impact actually came from the conference. Although both conference and capacity are very strong predictors, it seems that conference is the most important. For example, in model 3 the coefficient on only the Big 10 conference is 2.1305. These are in terms of log pay. The coefficient on capacity is 0.00000905. This is not as small as it seems, because the capacity that would be multiplied by this coefficient is in Syracuse's case, 50,000. However, this would still be less than the coefficient on the conference for the big ten. Furthermore, there is probably some impact on capacity by including conference in the model. For example, capacity tends to be larger for the better conferences. Therefore, it is possible that some of the impact of capacity is captured in conference. \n",
        "\n"
      ]
    }
  ]
}